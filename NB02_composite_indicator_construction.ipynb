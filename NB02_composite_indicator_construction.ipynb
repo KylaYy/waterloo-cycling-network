{
 "cells": [
  {
   "cell_type": "markdown",
   "id": "dac77049-7b6d-465e-802a-bc5419add7c3",
   "metadata": {},
   "source": [
    "# Notebook 2: Composite indicator construction\n",
    "\n",
    "<br>Log:\n",
    "<br>July 5, 2025:\n",
    "- Notebook created\n",
    "- Importing prepared network and centrality analysis\n",
    "\n",
    "<br>July 6, 2025\n",
    "- Tried different file types but too much detail was lost\n",
    "- Implemented csv writing in NB01 and reading in NB02 (this notebook)\n",
    "\n",
    "<br>July 9, 2025\n",
    "- KeyError when trying to get centrality values from dictionary (issue with file transfer from NB01 when renaming keys)\n",
    "- Trying to fix ^^ issue\n",
    "- Fixed! \n",
    "\n",
    "<br> July 14, 2025\n",
    "- Figuring out how to import cycling network properly\n",
    "\n",
    "<br> July 20, 2025\n",
    "- Cleaning data and figuring out what's missing\n",
    "- Filtering out unnecessary highway types\n",
    "- Removing road network edges outside of Waterloo boundaries\n",
    "- Adding logic to calculate composite indicator\n",
    "\n",
    "<br> July 27, 2025\n",
    "- Creating syntax for composite indicators\n",
    "- Finding how many datapoints are missing\n",
    "\n",
    "<br> August 2, 2025\n",
    "- Cleaning up lane parsing using two functions - isList and parseList"
   ]
  },
  {
   "cell_type": "markdown",
   "id": "4081501a-a548-4af9-a3d3-30501b6749be",
   "metadata": {},
   "source": [
    "# 1. Importing Packages"
   ]
  },
  {
   "cell_type": "code",
   "execution_count": 588,
   "id": "42200710-961d-44b4-b813-9f0c30bd58d8",
   "metadata": {},
   "outputs": [],
   "source": [
    "# General packages\n",
    "import numpy as np\n",
    "import pandas as pd\n",
    "import matplotlib.colors as colors\n",
    "import matplotlib.cm as cm\n",
    "import json\n",
    "import matplotlib.pyplot as plt\n",
    "# Geopackages\n",
    "import geopandas as gpd\n",
    "import shapely\n",
    "from shapely.geometry import Point\n",
    "import osmnx as ox\n",
    "import networkx as nx\n",
    "from shapely import wkt"
   ]
  },
  {
   "cell_type": "code",
   "execution_count": null,
   "id": "91a4ceb1",
   "metadata": {},
   "outputs": [],
   "source": [
    "# Citations"
   ]
  },
  {
   "cell_type": "markdown",
   "id": "5d142a40-c962-4291-8373-8685de4a899f",
   "metadata": {},
   "source": [
    "# 2. Importing data from Notebook 01\n",
    "\n",
    "<br>Data for import: \n",
    "- Street network node gdf\n",
    "- Street network edge gdf\n",
    "- Node centrality dictionary\n",
    "- Edge centrality dictionary"
   ]
  },
  {
   "cell_type": "markdown",
   "id": "42c5d739-d214-4ec8-bd6d-c465b6128ea4",
   "metadata": {},
   "source": [
    "## 2.1 Importing network dataframes"
   ]
  },
  {
   "cell_type": "code",
   "execution_count": 589,
   "id": "979c8b5f-9094-46a0-a43a-aa572d15056a",
   "metadata": {},
   "outputs": [],
   "source": [
    "# Importing node csv file\n",
    "gdf_nodes = pd.read_csv('Data/gdf_nodes.csv')\n",
    "gdf_nodes.set_index('osmid', inplace=True)\n",
    "\n",
    "# Importing edge csv file\n",
    "gdf_edges = pd.read_csv('Data/gdf_edges.csv')\n",
    "gdf_edges.set_index(['u', 'v', 'key'], inplace=True)\n",
    "\n",
    "# Fixing geometry\n",
    "# gdf_edges[gdf_edges['geometry'].isna()]['geometry'] = None\n",
    "gdf_edges.loc[gdf_edges['geometry'].isna(), 'geometry'] = None\n",
    "gdf_edges['geometry'] = gdf_edges['geometry'].apply(wkt.loads)"
   ]
  },
  {
   "cell_type": "code",
   "execution_count": 590,
   "id": "73f11d86-702c-47bc-bc22-2ade3680532c",
   "metadata": {},
   "outputs": [
    {
     "name": "stdout",
     "output_type": "stream",
     "text": [
      "Dataframe of nodes\n"
     ]
    },
    {
     "data": {
      "text/html": [
       "<div>\n",
       "<style scoped>\n",
       "    .dataframe tbody tr th:only-of-type {\n",
       "        vertical-align: middle;\n",
       "    }\n",
       "\n",
       "    .dataframe tbody tr th {\n",
       "        vertical-align: top;\n",
       "    }\n",
       "\n",
       "    .dataframe thead th {\n",
       "        text-align: right;\n",
       "    }\n",
       "</style>\n",
       "<table border=\"1\" class=\"dataframe\">\n",
       "  <thead>\n",
       "    <tr style=\"text-align: right;\">\n",
       "      <th></th>\n",
       "      <th>y</th>\n",
       "      <th>x</th>\n",
       "      <th>highway</th>\n",
       "      <th>street_count</th>\n",
       "      <th>junction</th>\n",
       "    </tr>\n",
       "    <tr>\n",
       "      <th>osmid</th>\n",
       "      <th></th>\n",
       "      <th></th>\n",
       "      <th></th>\n",
       "      <th></th>\n",
       "      <th></th>\n",
       "    </tr>\n",
       "  </thead>\n",
       "  <tbody>\n",
       "    <tr>\n",
       "      <th>10782939</th>\n",
       "      <td>43.470458</td>\n",
       "      <td>-80.558132</td>\n",
       "      <td>traffic_signals</td>\n",
       "      <td>4</td>\n",
       "      <td>NaN</td>\n",
       "    </tr>\n",
       "    <tr>\n",
       "      <th>10782965</th>\n",
       "      <td>43.483418</td>\n",
       "      <td>-80.565314</td>\n",
       "      <td>traffic_signals</td>\n",
       "      <td>4</td>\n",
       "      <td>NaN</td>\n",
       "    </tr>\n",
       "  </tbody>\n",
       "</table>\n",
       "</div>"
      ],
      "text/plain": [
       "                  y          x          highway  street_count junction\n",
       "osmid                                                                 \n",
       "10782939  43.470458 -80.558132  traffic_signals             4      NaN\n",
       "10782965  43.483418 -80.565314  traffic_signals             4      NaN"
      ]
     },
     "execution_count": 590,
     "metadata": {},
     "output_type": "execute_result"
    }
   ],
   "source": [
    "print('Dataframe of nodes')\n",
    "gdf_nodes.head(2)"
   ]
  },
  {
   "cell_type": "code",
   "execution_count": 591,
   "id": "04e00e2e-af8d-4d65-b394-5544986c69de",
   "metadata": {},
   "outputs": [
    {
     "name": "stdout",
     "output_type": "stream",
     "text": [
      "Dataframe of edges\n"
     ]
    },
    {
     "data": {
      "text/html": [
       "<div>\n",
       "<style scoped>\n",
       "    .dataframe tbody tr th:only-of-type {\n",
       "        vertical-align: middle;\n",
       "    }\n",
       "\n",
       "    .dataframe tbody tr th {\n",
       "        vertical-align: top;\n",
       "    }\n",
       "\n",
       "    .dataframe thead th {\n",
       "        text-align: right;\n",
       "    }\n",
       "</style>\n",
       "<table border=\"1\" class=\"dataframe\">\n",
       "  <thead>\n",
       "    <tr style=\"text-align: right;\">\n",
       "      <th></th>\n",
       "      <th></th>\n",
       "      <th></th>\n",
       "      <th>osmid</th>\n",
       "      <th>highway</th>\n",
       "      <th>lanes</th>\n",
       "      <th>maxspeed</th>\n",
       "      <th>cycleway</th>\n",
       "      <th>oneway</th>\n",
       "      <th>reversed</th>\n",
       "      <th>length</th>\n",
       "      <th>geometry</th>\n",
       "    </tr>\n",
       "    <tr>\n",
       "      <th>u</th>\n",
       "      <th>v</th>\n",
       "      <th>key</th>\n",
       "      <th></th>\n",
       "      <th></th>\n",
       "      <th></th>\n",
       "      <th></th>\n",
       "      <th></th>\n",
       "      <th></th>\n",
       "      <th></th>\n",
       "      <th></th>\n",
       "      <th></th>\n",
       "    </tr>\n",
       "  </thead>\n",
       "  <tbody>\n",
       "    <tr>\n",
       "      <th rowspan=\"2\" valign=\"top\">10782939</th>\n",
       "      <th>340086040</th>\n",
       "      <th>0</th>\n",
       "      <td>196461233</td>\n",
       "      <td>secondary</td>\n",
       "      <td>2</td>\n",
       "      <td>60</td>\n",
       "      <td>lane</td>\n",
       "      <td>False</td>\n",
       "      <td>False</td>\n",
       "      <td>11.415097</td>\n",
       "      <td>None</td>\n",
       "    </tr>\n",
       "    <tr>\n",
       "      <th>533769764</th>\n",
       "      <th>0</th>\n",
       "      <td>384921496</td>\n",
       "      <td>secondary</td>\n",
       "      <td>2</td>\n",
       "      <td>60</td>\n",
       "      <td>NaN</td>\n",
       "      <td>False</td>\n",
       "      <td>True</td>\n",
       "      <td>12.990882</td>\n",
       "      <td>None</td>\n",
       "    </tr>\n",
       "  </tbody>\n",
       "</table>\n",
       "</div>"
      ],
      "text/plain": [
       "                            osmid    highway lanes maxspeed cycleway  oneway  \\\n",
       "u        v         key                                                         \n",
       "10782939 340086040 0    196461233  secondary     2       60     lane   False   \n",
       "         533769764 0    384921496  secondary     2       60      NaN   False   \n",
       "\n",
       "                       reversed     length geometry  \n",
       "u        v         key                               \n",
       "10782939 340086040 0      False  11.415097     None  \n",
       "         533769764 0       True  12.990882     None  "
      ]
     },
     "execution_count": 591,
     "metadata": {},
     "output_type": "execute_result"
    }
   ],
   "source": [
    "print('Dataframe of edges')\n",
    "gdf_edges.head(2)"
   ]
  },
  {
   "cell_type": "code",
   "execution_count": 592,
   "id": "f673c97a-b5f3-4f2a-a55b-cf21d77b5366",
   "metadata": {},
   "outputs": [],
   "source": [
    "# Converting nodes to gdfs\n",
    "gdf_nodes = gpd.GeoDataFrame(gdf_nodes)\n",
    "# Converting edges to gdfs\n",
    "gdf_edges = gpd.GeoDataFrame(gdf_edges, crs='EPSG:4326', geometry='geometry')"
   ]
  },
  {
   "cell_type": "markdown",
   "id": "16b89685-d527-4d40-8ea8-c82afba8d8db",
   "metadata": {},
   "source": [
    "## 2.2 Importing centrality values"
   ]
  },
  {
   "cell_type": "code",
   "execution_count": 593,
   "id": "def8b8ef-52d8-4aab-a1f3-23dfa2868d04",
   "metadata": {},
   "outputs": [],
   "source": [
    "# Importing node centraliity dictionary from json file\n",
    "with open('Data/node_centrality.json', 'r') as file:\n",
    "    node_centrality = json.load(file)"
   ]
  },
  {
   "cell_type": "code",
   "execution_count": 594,
   "id": "2fcb7f1b-5810-48b6-afc3-f54a4c46f68f",
   "metadata": {},
   "outputs": [],
   "source": [
    "# Importing edge centrality dictionary from json file\n",
    "with open('Data/edge_centrality.json', 'r') as file:\n",
    "    edge_centrality = json.load(file)\n",
    "\n",
    "# Converting string keys back to tuples\n",
    "for key in list(edge_centrality.keys()):\n",
    "    ituple = tuple(int(val) for val in key.split('|'))\n",
    "    edge_centrality[ituple] = edge_centrality[key]\n",
    "    del edge_centrality[key]"
   ]
  },
  {
   "cell_type": "markdown",
   "id": "fc6d9f4e-25da-40fc-aa44-db91f0f9b7fb",
   "metadata": {},
   "source": [
    "# 3. Prepping imported data\n",
    "Steps:\n",
    "1. Construct graph from imported data\n",
    "2. Create line graph using centrality dictionary"
   ]
  },
  {
   "cell_type": "markdown",
   "id": "51e13c06-cb3b-4371-b87d-f43a1f625d7b",
   "metadata": {},
   "source": [
    "## 3.1 Creating network from dataframes"
   ]
  },
  {
   "cell_type": "code",
   "execution_count": 595,
   "id": "3e9ca9a2-fe85-41d4-b04d-9980a68c04f2",
   "metadata": {},
   "outputs": [],
   "source": [
    "g = ox.graph_from_gdfs(gdf_nodes, gdf_edges)\n",
    "type(g)\n",
    "g_line = nx.line_graph(g)"
   ]
  },
  {
   "cell_type": "code",
   "execution_count": 596,
   "id": "4a360169-75de-488a-8dcd-f36d33ea4c3d",
   "metadata": {},
   "outputs": [],
   "source": [
    "# # Basics stats: \n",
    "# g.get_edge_data(10782939, 340086040, key=0)\n",
    "# # g.get_edge_data( 340086040, 10782939)\n",
    "\n",
    "# # trying to see all unique values for highway to see what comes up and how to sort through - if the sorting isn't suirtable, a different method needs to be used.\n",
    "# # Maybe osm ids can be extracted from the cycling network?"
   ]
  },
  {
   "cell_type": "markdown",
   "id": "bc4ce25a-1b6d-404d-84c0-68a14aa9c258",
   "metadata": {},
   "source": [
    "## 3.2 Edge centrality network"
   ]
  },
  {
   "cell_type": "code",
   "execution_count": 597,
   "id": "3cdf4d15-f34e-40f7-bebe-ebf1a4b39692",
   "metadata": {},
   "outputs": [],
   "source": [
    "# list of edge values for the original graph\n",
    "# ev = [edge_centrality[edge] for edge in g.edges]\n",
    "\n",
    "# # color scale converted to list of colors for graph edges\n",
    "# norm = colors.Normalize(vmin=min(ev)*0.8, vmax=max(ev))\n",
    "# cmap = cm.ScalarMappable(norm=norm, cmap=cm.inferno)\n",
    "# ec = [cmap.to_rgba(cl) for cl in ev]\n",
    "\n",
    "# # color the edges in the original graph with closeness centralities in the line graph\n",
    "# fig, ax = ox.plot_graph(g, bgcolor='k', node_size=0, node_color='w', node_edgecolor='gray', node_zorder=2,\n",
    "#                         edge_color=ec, edge_linewidth=1.5, edge_alpha=1)"
   ]
  },
  {
   "cell_type": "markdown",
   "id": "55ab42f9-84bc-49c1-ba89-6d5b9afc4137",
   "metadata": {},
   "source": [
    "# 4. Data prep and cleaning\n",
    "Steps:\n",
    "1. Create new dataframe containing only necessary columns\n",
    "2. Filter out unneeded road types\n",
    "3. Filter out roads outside of city boundaries\n",
    "4. **Deal with missing vlalues**"
   ]
  },
  {
   "cell_type": "markdown",
   "id": "2a1e1ba6-f1ad-432e-a836-4bb8ac4c2e9c",
   "metadata": {},
   "source": [
    "## 4.1 Creating new df for indicators\n",
    "d is the main dataframe to be worked with for cleaning and composite index construction."
   ]
  },
  {
   "cell_type": "code",
   "execution_count": 598,
   "id": "d9566091-2c11-40c2-9944-01f5e13a705a",
   "metadata": {},
   "outputs": [
    {
     "data": {
      "text/html": [
       "<div>\n",
       "<style scoped>\n",
       "    .dataframe tbody tr th:only-of-type {\n",
       "        vertical-align: middle;\n",
       "    }\n",
       "\n",
       "    .dataframe tbody tr th {\n",
       "        vertical-align: top;\n",
       "    }\n",
       "\n",
       "    .dataframe thead th {\n",
       "        text-align: right;\n",
       "    }\n",
       "</style>\n",
       "<table border=\"1\" class=\"dataframe\">\n",
       "  <thead>\n",
       "    <tr style=\"text-align: right;\">\n",
       "      <th></th>\n",
       "      <th>u</th>\n",
       "      <th>v</th>\n",
       "      <th>key</th>\n",
       "      <th>osmid</th>\n",
       "      <th>highway</th>\n",
       "      <th>lanes</th>\n",
       "      <th>maxspeed</th>\n",
       "      <th>cycleway</th>\n",
       "    </tr>\n",
       "  </thead>\n",
       "  <tbody>\n",
       "    <tr>\n",
       "      <th>0</th>\n",
       "      <td>10782939</td>\n",
       "      <td>340086040</td>\n",
       "      <td>0</td>\n",
       "      <td>196461233</td>\n",
       "      <td>secondary</td>\n",
       "      <td>2</td>\n",
       "      <td>60</td>\n",
       "      <td>lane</td>\n",
       "    </tr>\n",
       "  </tbody>\n",
       "</table>\n",
       "</div>"
      ],
      "text/plain": [
       "          u          v  key      osmid    highway lanes maxspeed cycleway\n",
       "0  10782939  340086040    0  196461233  secondary     2       60     lane"
      ]
     },
     "execution_count": 598,
     "metadata": {},
     "output_type": "execute_result"
    }
   ],
   "source": [
    "# List of columns to include\n",
    "columns_tokeep = ['osmid', 'highway', 'lanes', 'maxspeed', 'cycleway']\n",
    "\n",
    "d = gdf_edges[columns_tokeep]\n",
    "\n",
    "# Resetting index:\n",
    "d.reset_index(inplace=True)\n",
    "\n",
    "d.head(1)"
   ]
  },
  {
   "cell_type": "code",
   "execution_count": 599,
   "id": "b849762b-5616-4552-b778-fea1d184ebab",
   "metadata": {},
   "outputs": [
    {
     "name": "stdout",
     "output_type": "stream",
     "text": [
      "If the dtype is an object, that means that the field contains string(s)\n"
     ]
    },
    {
     "data": {
      "text/plain": [
       "u            int64\n",
       "v            int64\n",
       "key          int64\n",
       "osmid       object\n",
       "highway     object\n",
       "lanes       object\n",
       "maxspeed    object\n",
       "cycleway    object\n",
       "dtype: object"
      ]
     },
     "execution_count": 599,
     "metadata": {},
     "output_type": "execute_result"
    }
   ],
   "source": [
    "# Checking datatypes\n",
    "print('If the dtype is an object, that means that the field contains string(s)')\n",
    "\n",
    "d.dtypes"
   ]
  },
  {
   "cell_type": "code",
   "execution_count": 600,
   "id": "e15f8b1d-198f-4a7e-89c5-7837d0b8f2a3",
   "metadata": {},
   "outputs": [
    {
     "name": "stdout",
     "output_type": "stream",
     "text": [
      "~~~ BEFORE REPLACING NANS WITH nan STRINGS ~~~\n",
      "unique non string values for osmid :\n",
      " [] \n",
      "~~~~~~~~~~~~~~~~~~~\n",
      "unique non string values for highway :\n",
      " [] \n",
      "~~~~~~~~~~~~~~~~~~~\n",
      "unique non string values for lanes :\n",
      " [nan] \n",
      "~~~~~~~~~~~~~~~~~~~\n",
      "unique non string values for maxspeed :\n",
      " [nan] \n",
      "~~~~~~~~~~~~~~~~~~~\n",
      "unique non string values for cycleway :\n",
      " [nan] \n",
      "~~~~~~~~~~~~~~~~~~~\n"
     ]
    }
   ],
   "source": [
    "print('~~~ BEFORE REPLACING NANS WITH nan STRINGS ~~~')\n",
    "\n",
    "x = lambda s : isinstance(s, str)\n",
    "\n",
    "for col in columns_tokeep:\n",
    "    cond = d[col].apply(x)\n",
    "    print('unique non string values for', col, ':\\n', d.loc[~cond, col].unique(), '\\n~~~~~~~~~~~~~~~~~~~')"
   ]
  },
  {
   "cell_type": "code",
   "execution_count": 601,
   "id": "f3d74cda-d64d-428d-a98a-f4efe85f350a",
   "metadata": {},
   "outputs": [],
   "source": [
    "# converting all nan values to nan strings\n",
    "for col in columns_tokeep:\n",
    "    cond = d[col].isna()\n",
    "    d.loc[cond, col] = 'nan' # replacing with 'nan' string"
   ]
  },
  {
   "cell_type": "code",
   "execution_count": 602,
   "id": "e89209db-3794-4c55-baca-fc5b79b4a1af",
   "metadata": {},
   "outputs": [
    {
     "name": "stdout",
     "output_type": "stream",
     "text": [
      "~~~ AFTER REPLACING NANS WITH EMPTY STRINGS ~~~\n",
      "unique non string values for osmid : [] \n",
      "~~~~~~~~~~~~~~~~~~~\n",
      "unique non string values for highway : [] \n",
      "~~~~~~~~~~~~~~~~~~~\n",
      "unique non string values for lanes : [] \n",
      "~~~~~~~~~~~~~~~~~~~\n",
      "unique non string values for maxspeed : [] \n",
      "~~~~~~~~~~~~~~~~~~~\n",
      "unique non string values for cycleway : [] \n",
      "~~~~~~~~~~~~~~~~~~~\n"
     ]
    }
   ],
   "source": [
    "print('~~~ AFTER REPLACING NANS WITH EMPTY STRINGS ~~~')\n",
    "\n",
    "x = lambda s : isinstance(s, str)\n",
    "\n",
    "for col in columns_tokeep:\n",
    "    cond = d[col].apply(x)\n",
    "    print('unique non string values for', col, ':', d.loc[~cond, col].unique(), '\\n~~~~~~~~~~~~~~~~~~~')"
   ]
  },
  {
   "cell_type": "markdown",
   "id": "a39a58e7-e36b-4aa4-bc05-0b8d6ff7056c",
   "metadata": {},
   "source": [
    "## 4.2 Parsing values\n",
    "Some values (osmid, highways, lanes, maxspeed) are in the form of: '['highway1', 'highway2', 'highway3']', which is not a workable format. \n",
    "<br>These will be split up and the first item in the list will be used. "
   ]
  },
  {
   "cell_type": "code",
   "execution_count": 603,
   "id": "c5f38fe7-07cc-474d-8de2-c915c0c11d80",
   "metadata": {},
   "outputs": [],
   "source": [
    "# Parsing functions\n",
    "\n",
    "# isList should be used to create a boolean list where True corresponds to list structures and False corresponds to single values\n",
    "# meant to be used with loc to modify rows where the format is a list\n",
    "# keep in mind that at this point, all columns other than u, v, and key are strings\n",
    "def isList(d, col):\n",
    "    cond1 = d[col] != '' #checks that the value is not an empty string\n",
    "    cond2 = d[col].str.slice(stop=1) == '[' #checks that the first character is an opening bracket\n",
    "    cond = cond1 & cond2 #\n",
    "    return cond\n",
    "\n",
    "# use after getting cond variable from using isList\n",
    "def parseList(d, cond, col):\n",
    "    # separating items that match\n",
    "    d_lists = d.loc[cond, col]\n",
    "    # slice: removes square brackets\n",
    "    # replace: removes quotation marks if there are any\n",
    "    # split: splits string into list based on ', ' separator\n",
    "    # apply(lambda): takes the first element of the given list\n",
    "    d_lists = d_lists.str.slice(start=1, stop=-1) # removes square brackets\n",
    "    d_lists = d_lists.str.replace('\\'', '') # removes single quotes\n",
    "    d_lists = d_lists.str.replace('\\\"', '') # removes double quotes\n",
    "    d_lists = d_lists.str.split(', ') # splits string into list of multiple values\n",
    "    d_lists = d_lists.apply(lambda x:x[0]) # only keeps first value\n",
    "    return d_lists"
   ]
  },
  {
   "cell_type": "code",
   "execution_count": 604,
   "id": "2f69009c-2233-43a7-a789-3a029d49e58f",
   "metadata": {},
   "outputs": [
    {
     "name": "stdout",
     "output_type": "stream",
     "text": [
      "~~~ CHECKING FOR LIST FORMAT VALUES IN VALUE COLUMNS ~~~\n",
      "unique values in osmid: ['196461233' '384921496' '503446166' ... '1396171036' '1396171037'\n",
      " '1396171039'] \n",
      "~~~~~~~\n",
      "unique values in highway: ['secondary' 'service' 'tertiary' 'unclassified' 'cycleway' 'residential'\n",
      " 'primary' 'path' 'secondary_link' 'tertiary_link' 'pedestrian'\n",
      " 'living_street' 'track' 'busway'] \n",
      "~~~~~~~\n",
      "unique values in lanes: ['2' '3' 'nan' '4' '5' '1' '6'] \n",
      "~~~~~~~\n",
      "unique values in maxspeed: ['60' '80' 'nan' '50' '70' '30' '40' '20' '10' '25' '15'] \n",
      "~~~~~~~\n",
      "unique values in cycleway: ['lane' 'nan' 'separate' 'no' 'crossing' 'shared_lane' 'shared' 'yes'\n",
      " 'designated' 'shoulder'] \n",
      "~~~~~~~\n"
     ]
    }
   ],
   "source": [
    "# testing isList function to create cond\n",
    "print('~~~ CHECKING FOR LIST FORMAT VALUES IN VALUE COLUMNS ~~~')\n",
    "\n",
    "for col in columns_tokeep:\n",
    "    cond = isList(d, col)\n",
    "    print(f'unique values in {col}:', d.loc[~cond, col].unique(), '\\n~~~~~~~')"
   ]
  },
  {
   "cell_type": "markdown",
   "id": "0f7b5bec-0b86-4821-a772-e678ba0b931a",
   "metadata": {},
   "source": [
    "### 4.2.1 Parsing highway types"
   ]
  },
  {
   "cell_type": "code",
   "execution_count": 605,
   "id": "96fde540-947a-43b3-b451-22a5aa399736",
   "metadata": {},
   "outputs": [
    {
     "name": "stdout",
     "output_type": "stream",
     "text": [
      "['secondary' 'service' 'tertiary' 'unclassified' 'cycleway' 'residential'\n",
      " 'primary' 'path' 'secondary_link' \"['unclassified', 'service']\"\n",
      " \"['residential', 'path', 'cycleway']\" \"['residential', 'path']\"\n",
      " \"['path', 'cycleway']\" \"['service', 'path']\" 'tertiary_link' 'pedestrian'\n",
      " \"['residential', 'service']\" \"['unclassified', 'cycleway']\"\n",
      " 'living_street' 'track' \"['residential', 'tertiary']\"\n",
      " \"['residential', 'unclassified']\" \"['service', 'track']\" 'busway'\n",
      " \"['unclassified', 'path']\" \"['service', 'cycleway']\"\n",
      " \"['unclassified', 'residential']\" \"['path', 'track']\"\n",
      " \"['unclassified', 'track']\" \"['secondary', 'service']\"\n",
      " \"['residential', 'cycleway']\"]\n",
      "highway\n",
      "service                                24596\n",
      "residential                            12884\n",
      "path                                    4306\n",
      "secondary                               3652\n",
      "tertiary                                2768\n",
      "unclassified                            2328\n",
      "cycleway                                1222\n",
      "['path', 'cycleway']                     462\n",
      "track                                     82\n",
      "secondary_link                            70\n",
      "['service', 'path']                       42\n",
      "busway                                    32\n",
      "['residential', 'path']                   26\n",
      "['residential', 'service']                24\n",
      "['unclassified', 'service']               22\n",
      "living_street                             16\n",
      "tertiary_link                             14\n",
      "pedestrian                                 8\n",
      "['unclassified', 'cycleway']               8\n",
      "['service', 'track']                       6\n",
      "['unclassified', 'path']                   6\n",
      "['residential', 'path', 'cycleway']        4\n",
      "primary                                    4\n",
      "['unclassified', 'residential']            4\n",
      "['residential', 'tertiary']                2\n",
      "['residential', 'unclassified']            2\n",
      "['service', 'cycleway']                    2\n",
      "['path', 'track']                          2\n",
      "['unclassified', 'track']                  2\n",
      "['secondary', 'service']                   2\n",
      "['residential', 'cycleway']                2\n",
      "Name: count, dtype: int64\n"
     ]
    }
   ],
   "source": [
    "print(d['highway'].unique())\n",
    "print(d['highway'].value_counts())"
   ]
  },
  {
   "cell_type": "code",
   "execution_count": 606,
   "id": "36f5cf62-30bc-4f78-bd51-c04a06cbca45",
   "metadata": {},
   "outputs": [
    {
     "name": "stdout",
     "output_type": "stream",
     "text": [
      "['secondary' 'service' 'tertiary' 'unclassified' 'cycleway' 'residential'\n",
      " 'primary' 'path' 'secondary_link' 'tertiary_link' 'pedestrian'\n",
      " 'living_street' 'track' 'busway']\n",
      "highway\n",
      "service           24646\n",
      "residential       12944\n",
      "path               4770\n",
      "secondary          3654\n",
      "tertiary           2768\n",
      "unclassified       2370\n",
      "cycleway           1222\n",
      "track                82\n",
      "secondary_link       70\n",
      "busway               32\n",
      "living_street        16\n",
      "tertiary_link        14\n",
      "pedestrian            8\n",
      "primary               4\n",
      "Name: count, dtype: int64\n"
     ]
    }
   ],
   "source": [
    "# parsing strings in list format\n",
    "cond = isList(d, 'highway')\n",
    "d.loc[cond, 'highway'] = parseList(d, cond, 'highway')\n",
    "\n",
    "# converting 'nan' to np.nan\n",
    "cond = d['highway'] == 'nan'\n",
    "d.loc[cond, 'highway'] = np.nan\n",
    "\n",
    "print(d['highway'].unique())\n",
    "print(d['highway'].value_counts(dropna=False))"
   ]
  },
  {
   "cell_type": "markdown",
   "id": "d28b4728",
   "metadata": {},
   "source": [
    "### 4.2.2 Parsing cycleway types"
   ]
  },
  {
   "cell_type": "code",
   "execution_count": 607,
   "id": "7d557a86",
   "metadata": {},
   "outputs": [
    {
     "name": "stdout",
     "output_type": "stream",
     "text": [
      "['lane' nan 'separate' 'crossing' 'shared_lane' 'shared' 'yes'\n",
      " 'designated' 'shoulder']\n",
      "cycleway\n",
      "NaN            49350\n",
      "lane            1843\n",
      "crossing         884\n",
      "shared_lane      289\n",
      "separate         202\n",
      "designated        20\n",
      "shared             8\n",
      "yes                2\n",
      "shoulder           2\n",
      "Name: count, dtype: int64\n"
     ]
    }
   ],
   "source": [
    "# parsing strings in list format\n",
    "cond = isList(d, 'cycleway')\n",
    "d.loc[cond, 'cycleway'] = parseList(d, cond, 'cycleway')\n",
    "\n",
    "# converting 'nan' to np.nan\n",
    "cond1 = (d['cycleway'] == 'nan')\n",
    "cond2 = (d['cycleway'] == 'no')\n",
    "d.loc[cond1, 'cycleway'] = np.nan\n",
    "d.loc[cond2, 'cycleway'] = np.nan\n",
    "\n",
    "\n",
    "print(d['cycleway'].unique())\n",
    "print(d['cycleway'].value_counts(dropna=False))\n",
    "\n",
    "# lane: no physical separation from the road (often painted)\n",
    "# shared_lane: cyclists share the lane with motorists\n",
    "# separate: indicates that the cycling infra is indicated separately from cycleway\n",
    "# shoulder: no designated infra "
   ]
  },
  {
   "cell_type": "markdown",
   "id": "b8477fa4",
   "metadata": {},
   "source": [
    "### 4.2.x Mapping highway types to different scores\n",
    "\n",
    "Different highway types will be mapped to scores depending on how much they would benefit from improved bike lanes"
   ]
  },
  {
   "cell_type": "code",
   "execution_count": 608,
   "id": "e4ca5ff7",
   "metadata": {},
   "outputs": [
    {
     "name": "stdout",
     "output_type": "stream",
     "text": [
      "['secondary' 'service' 'tertiary' 'unclassified' 'cycleway' 'residential'\n",
      " 'primary' 'path' 'secondary_link' 'tertiary_link' 'pedestrian'\n",
      " 'living_street' 'track' 'busway']\n"
     ]
    }
   ],
   "source": [
    "print(d['highway'].unique())"
   ]
  },
  {
   "cell_type": "code",
   "execution_count": 609,
   "id": "d6222b26",
   "metadata": {},
   "outputs": [
    {
     "name": "stdout",
     "output_type": "stream",
     "text": [
      "highway_score\n",
      "4.0    12944\n",
      "6.0     3654\n",
      "5.0     2768\n",
      "3.0     2370\n",
      "1.0       16\n",
      "2.0       14\n",
      "Name: count, dtype: int64\n",
      "highway\n",
      "service           24646\n",
      "residential       12944\n",
      "path               4770\n",
      "secondary          3654\n",
      "tertiary           2768\n",
      "unclassified       2370\n",
      "cycleway           1222\n",
      "track                82\n",
      "secondary_link       70\n",
      "busway               32\n",
      "living_street        16\n",
      "tertiary_link        14\n",
      "pedestrian            8\n",
      "primary               4\n",
      "Name: count, dtype: int64\n"
     ]
    }
   ],
   "source": [
    "# ranking: \n",
    "\n",
    "highway_dict = {\n",
    "    'secondary':6, #rank 1\n",
    "    'tertiary':5, # rank 2\n",
    "    'unclassified':3, # rank 4\n",
    "    'residential':4, # rank 3\n",
    "    'tertiary_link':2, # rank 5\n",
    "    'living_street':1, # rank 6\n",
    "}\n",
    "\n",
    "d['highway_score'] = d['highway'].map(highway_dict)\n",
    "\n",
    "print(d['highway_score'].value_counts())\n",
    "print(d['highway'].value_counts())"
   ]
  },
  {
   "cell_type": "markdown",
   "id": "2d38da78-8b6c-4792-991b-248b282b583e",
   "metadata": {},
   "source": [
    "### 4.2.2 Parsing lanes"
   ]
  },
  {
   "cell_type": "code",
   "execution_count": 610,
   "id": "6b6c8d6c-cf1f-4c24-a5cf-913bf03e40cf",
   "metadata": {},
   "outputs": [
    {
     "name": "stdout",
     "output_type": "stream",
     "text": [
      "['2' '3' \"['1', '2', '3']\" 'nan' '4' '5' \"['2', '4', '3']\" \"['2', '3']\"\n",
      " '1' \"['2', '1']\" '6' \"['4', '2']\" \"['5', '6']\" \"['4', '5']\" \"['4', '6']\"\n",
      " \"['1', '2']\" \"['4', '3']\" \"['1', '3']\" \"['7', '5', '6']\"\n",
      " \"['4', '2', '3']\" \"['5', '2']\" \"['2', '1', '3']\" \"['2', '4', '5', '3']\"\n",
      " \"['4', '5', '6']\" \"['4', '5', '2', '3']\"]\n",
      "object (this value will be object, but should be float after parsing)\n"
     ]
    }
   ],
   "source": [
    "print(d['lanes'].unique())\n",
    "print(d['lanes'].dtypes, '(this value will be object, but should be float after parsing)')\n",
    "# print(d['lanes'].value_counts())"
   ]
  },
  {
   "cell_type": "code",
   "execution_count": 611,
   "id": "eecc3772-b2aa-45f5-b2fc-0b4171e0951a",
   "metadata": {},
   "outputs": [],
   "source": [
    "# parsing strings in list format\n",
    "cond = isList(d, 'lanes')\n",
    "d.loc[cond, 'lanes'] = parseList(d, cond, 'lanes')\n",
    "\n",
    "# converting 'nan' to np.nan and dtype to float\n",
    "cond = d['lanes'] == 'nan'\n",
    "d.loc[cond, 'lanes'] = np.nan\n",
    "\n",
    "# converting to float dtype\n",
    "d['lanes'] = d['lanes'].astype(float)"
   ]
  },
  {
   "cell_type": "code",
   "execution_count": 612,
   "id": "f985b9a4-1309-46c1-b076-73a9db955798",
   "metadata": {},
   "outputs": [
    {
     "name": "stdout",
     "output_type": "stream",
     "text": [
      "[ 2.  3.  1. nan  4.  5.  6.  7.]\n",
      "lanes\n",
      "NaN    26778\n",
      "2.0    21206\n",
      "1.0     2505\n",
      "4.0      997\n",
      "3.0      782\n",
      "5.0      306\n",
      "6.0       24\n",
      "7.0        2\n",
      "Name: count, dtype: int64\n",
      "float64\n"
     ]
    }
   ],
   "source": [
    "print(d['lanes'].unique())\n",
    "print(d['lanes'].value_counts(dropna=False))\n",
    "print(d['lanes'].dtype)"
   ]
  },
  {
   "cell_type": "markdown",
   "id": "ac45ba4f-13d1-4bd0-a4b6-f56fb803a050",
   "metadata": {},
   "source": [
    "### 4.x.x Parsing max speed"
   ]
  },
  {
   "cell_type": "code",
   "execution_count": 613,
   "id": "54e14353-ebc2-4a16-b94d-b23f3e2955f1",
   "metadata": {},
   "outputs": [
    {
     "name": "stdout",
     "output_type": "stream",
     "text": [
      "['60' '80' 'nan' '50' '70' '30' '40' \"['40', '50']\" \"['70', '80']\" '20'\n",
      " \"['50', '30']\" \"['30', '50']\" \"['40', '30']\" \"['70', '60']\"\n",
      " \"['40', '60']\" \"['50', '60']\" \"['70', '50']\" '10' \"['20', '40']\"\n",
      " \"['80', '60']\" \"['50', '80']\" '25' '15' \"['40', '15']\"]\n"
     ]
    }
   ],
   "source": [
    "print(d['maxspeed'].unique())"
   ]
  },
  {
   "cell_type": "code",
   "execution_count": 614,
   "id": "f8ce51b0-ae37-4b8b-b18a-116ff291b042",
   "metadata": {},
   "outputs": [],
   "source": [
    "# parsing strings in list format\n",
    "cond = isList(d, 'maxspeed')\n",
    "d.loc[cond, 'maxspeed'] = parseList(d, cond, 'maxspeed')\n",
    "\n",
    "# replacing 'nan' with np.nan\n",
    "cond = d['maxspeed'] == 'nan'\n",
    "d.loc[cond, 'maxspeed'] = np.nan\n",
    "\n",
    "# converting to float dtype\n",
    "d['maxspeed'] = d['maxspeed'].astype(float)"
   ]
  },
  {
   "cell_type": "code",
   "execution_count": 615,
   "id": "f5b7cc23-0b86-4408-a641-cf51fcbefd45",
   "metadata": {},
   "outputs": [
    {
     "name": "stdout",
     "output_type": "stream",
     "text": [
      "[60. 80. nan 50. 70. 30. 40. 20. 10. 25. 15.]\n",
      "maxspeed\n",
      "NaN     41118\n",
      "40.0     4324\n",
      "50.0     4165\n",
      "60.0     1414\n",
      "30.0     1195\n",
      "80.0      130\n",
      "70.0      104\n",
      "15.0       70\n",
      "20.0       60\n",
      "10.0       18\n",
      "25.0        2\n",
      "Name: count, dtype: int64\n"
     ]
    }
   ],
   "source": [
    "print(d['maxspeed'].unique())\n",
    "print(d['maxspeed'].value_counts(dropna=False))"
   ]
  },
  {
   "cell_type": "markdown",
   "id": "8f151fb1-7bcc-4fa4-99f9-5fb4f6bc915e",
   "metadata": {},
   "source": [
    "## 4.3 Filtering highways\n",
    "Edges to remove: \n",
    "- highway = service\n",
    "- highway = secondary_link\n",
    "- highway = track\n",
    "- highway = busway\n",
    "- highway = pedestrian\n",
    "- highway = cycleway\n",
    "- highway = path\n"
   ]
  },
  {
   "cell_type": "markdown",
   "id": "0910eeab-83cc-4480-9175-c887a12ef740",
   "metadata": {},
   "source": [
    "### 4.3.1 Removing select highway and cycleway types \n",
    "Condition: Highways that are not not roadways/not shared with motor vehicles are removed (these do not require additional roadway infrastructure)"
   ]
  },
  {
   "cell_type": "code",
   "execution_count": 616,
   "id": "d44e836a-9d82-4889-a01c-b9b812300849",
   "metadata": {},
   "outputs": [
    {
     "name": "stdout",
     "output_type": "stream",
     "text": [
      "inital dimensions: (52600, 9)\n",
      "number of datapoints removed: 24646\n",
      "number of datapoints after removing service : 27954 \n",
      "~~~\n",
      "number of datapoints removed: 70\n",
      "number of datapoints after removing secondary_link : 27884 \n",
      "~~~\n",
      "number of datapoints removed: 82\n",
      "number of datapoints after removing track : 27802 \n",
      "~~~\n",
      "number of datapoints removed: 32\n",
      "number of datapoints after removing busway : 27770 \n",
      "~~~\n",
      "number of datapoints removed: 8\n",
      "number of datapoints after removing pedestrian : 27762 \n",
      "~~~\n",
      "number of datapoints removed: 4770\n",
      "number of datapoints after removing path : 22992 \n",
      "~~~\n",
      "number of datapoints removed: 1222\n",
      "number of datapoints after removing cycleway : 21770 \n",
      "~~~\n",
      "final dimensions: (21770, 9)\n"
     ]
    }
   ],
   "source": [
    "# List of highways to remove:\n",
    "highway_toremove = ['service', 'secondary_link', 'track', 'busway', 'pedestrian', 'path', 'cycleway']\n",
    "\n",
    "print(\"inital dimensions:\", d.shape)\n",
    "for highway in highway_toremove: \n",
    "    # print(\"number of datapoints before removing\", highway, \":\", len(d))÷\\\n",
    "    print(\"number of datapoints removed:\", len(d[d['highway']==highway]))\n",
    "    d = d[d['highway']!=highway]\n",
    "    print(\"number of datapoints after removing\", highway, \":\", len(d), '\\n~~~')\n",
    "print(\"final dimensions:\", d.shape)"
   ]
  },
  {
   "cell_type": "code",
   "execution_count": 617,
   "id": "a08faad1-4c2e-4840-aef2-fc18e99fbe20",
   "metadata": {
    "scrolled": true
   },
   "outputs": [
    {
     "data": {
      "text/html": [
       "<div>\n",
       "<style scoped>\n",
       "    .dataframe tbody tr th:only-of-type {\n",
       "        vertical-align: middle;\n",
       "    }\n",
       "\n",
       "    .dataframe tbody tr th {\n",
       "        vertical-align: top;\n",
       "    }\n",
       "\n",
       "    .dataframe thead th {\n",
       "        text-align: right;\n",
       "    }\n",
       "</style>\n",
       "<table border=\"1\" class=\"dataframe\">\n",
       "  <thead>\n",
       "    <tr style=\"text-align: right;\">\n",
       "      <th></th>\n",
       "      <th>u</th>\n",
       "      <th>v</th>\n",
       "      <th>key</th>\n",
       "      <th>osmid</th>\n",
       "      <th>highway</th>\n",
       "      <th>lanes</th>\n",
       "      <th>maxspeed</th>\n",
       "      <th>cycleway</th>\n",
       "      <th>highway_score</th>\n",
       "    </tr>\n",
       "  </thead>\n",
       "  <tbody>\n",
       "    <tr>\n",
       "      <th>0</th>\n",
       "      <td>10782939</td>\n",
       "      <td>340086040</td>\n",
       "      <td>0</td>\n",
       "      <td>196461233</td>\n",
       "      <td>secondary</td>\n",
       "      <td>2.0</td>\n",
       "      <td>60.0</td>\n",
       "      <td>lane</td>\n",
       "      <td>6.0</td>\n",
       "    </tr>\n",
       "    <tr>\n",
       "      <th>1</th>\n",
       "      <td>10782939</td>\n",
       "      <td>533769764</td>\n",
       "      <td>0</td>\n",
       "      <td>384921496</td>\n",
       "      <td>secondary</td>\n",
       "      <td>2.0</td>\n",
       "      <td>60.0</td>\n",
       "      <td>NaN</td>\n",
       "      <td>6.0</td>\n",
       "    </tr>\n",
       "    <tr>\n",
       "      <th>2</th>\n",
       "      <td>10782939</td>\n",
       "      <td>295175096</td>\n",
       "      <td>0</td>\n",
       "      <td>196461233</td>\n",
       "      <td>secondary</td>\n",
       "      <td>2.0</td>\n",
       "      <td>60.0</td>\n",
       "      <td>lane</td>\n",
       "      <td>6.0</td>\n",
       "    </tr>\n",
       "  </tbody>\n",
       "</table>\n",
       "</div>"
      ],
      "text/plain": [
       "          u          v  key      osmid    highway  lanes  maxspeed cycleway  \\\n",
       "0  10782939  340086040    0  196461233  secondary    2.0      60.0     lane   \n",
       "1  10782939  533769764    0  384921496  secondary    2.0      60.0      NaN   \n",
       "2  10782939  295175096    0  196461233  secondary    2.0      60.0     lane   \n",
       "\n",
       "   highway_score  \n",
       "0            6.0  \n",
       "1            6.0  \n",
       "2            6.0  "
      ]
     },
     "execution_count": 617,
     "metadata": {},
     "output_type": "execute_result"
    }
   ],
   "source": [
    "d.head(3)"
   ]
  },
  {
   "cell_type": "code",
   "execution_count": 618,
   "id": "28cfbe00",
   "metadata": {},
   "outputs": [
    {
     "data": {
      "text/plain": [
       "cycleway\n",
       "NaN            19456\n",
       "lane            1841\n",
       "shared_lane      269\n",
       "separate         192\n",
       "shared             8\n",
       "designated         2\n",
       "shoulder           2\n",
       "Name: count, dtype: int64"
      ]
     },
     "execution_count": 618,
     "metadata": {},
     "output_type": "execute_result"
    }
   ],
   "source": [
    "d['cycleway'].value_counts(dropna = False)\n"
   ]
  },
  {
   "cell_type": "code",
   "execution_count": 619,
   "id": "f15797e2",
   "metadata": {},
   "outputs": [
    {
     "name": "stdout",
     "output_type": "stream",
     "text": [
      "length of d before:  21770\n",
      "length of d after:  21578\n"
     ]
    }
   ],
   "source": [
    "# Filtering out separated bike lanes\n",
    "print('length of d before: ', len(d))\n",
    "d = d[d['cycleway'] !='separate']\n",
    "print('length of d after: ', len(d))"
   ]
  },
  {
   "cell_type": "markdown",
   "id": "f96a4667-c3be-40d5-a692-77edf54d2afd",
   "metadata": {},
   "source": [
    "### 4.3.2 Removing highways outside of the Waterloo boundary"
   ]
  },
  {
   "cell_type": "code",
   "execution_count": 620,
   "id": "7b8ee427",
   "metadata": {},
   "outputs": [],
   "source": [
    "# Importing Waterloo polygon using OSMnx\n",
    "a = ox.geocode_to_gdf(\"Waterloo, Ontario, Canada\")\n",
    "waterloo_polygon = a.geometry.iloc[0]"
   ]
  },
  {
   "cell_type": "code",
   "execution_count": 621,
   "id": "f9a70390-a3c8-4524-b56d-cd37b6c2cab5",
   "metadata": {},
   "outputs": [],
   "source": [
    "# Function to check if one or both of nodes of each edge are within the Waterloo boundary\n",
    "# will return True if one or both points are inside the Waterloo polygon and false if both are outside.\n",
    "# \n",
    "\n",
    "# if i want to make this function more robust, find a way to test if the road passes through waterloo since testing end points isn't foolproof\n",
    "\n",
    "def in_waterloo(row):\n",
    "    u = row['u'] # getting id of point 1\n",
    "    v = row['v'] # getting id of point 2\n",
    "    point1 = Point(gdf_nodes.loc[u, 'x'], gdf_nodes.loc[u, 'y']) # creating points using x and y coordinates\n",
    "    point2 = Point(gdf_nodes.loc[v, 'x'], gdf_nodes.loc[v, 'y'])\n",
    "    if point1.within(waterloo_polygon) or point2.within(waterloo_polygon):\n",
    "        return True\n",
    "    else:\n",
    "        return False"
   ]
  },
  {
   "cell_type": "code",
   "execution_count": 622,
   "id": "13c7b1e7",
   "metadata": {},
   "outputs": [],
   "source": [
    "# removing roads outside of waterloo\n",
    "cond = d.apply(in_waterloo, axis=1)\n",
    "d = d.loc[cond]"
   ]
  },
  {
   "cell_type": "code",
   "execution_count": 623,
   "id": "5925b33d",
   "metadata": {},
   "outputs": [
    {
     "data": {
      "text/plain": [
       "(16038, 9)"
      ]
     },
     "execution_count": 623,
     "metadata": {},
     "output_type": "execute_result"
    }
   ],
   "source": [
    "d.shape"
   ]
  },
  {
   "cell_type": "markdown",
   "id": "f5dd91d9-2a63-4923-bd4e-fc1616713811",
   "metadata": {},
   "source": [
    "---"
   ]
  },
  {
   "cell_type": "code",
   "execution_count": 624,
   "id": "7550fd79-41c5-4131-8a11-f2b2b083a553",
   "metadata": {},
   "outputs": [
    {
     "data": {
      "text/html": [
       "<div>\n",
       "<style scoped>\n",
       "    .dataframe tbody tr th:only-of-type {\n",
       "        vertical-align: middle;\n",
       "    }\n",
       "\n",
       "    .dataframe tbody tr th {\n",
       "        vertical-align: top;\n",
       "    }\n",
       "\n",
       "    .dataframe thead th {\n",
       "        text-align: right;\n",
       "    }\n",
       "</style>\n",
       "<table border=\"1\" class=\"dataframe\">\n",
       "  <thead>\n",
       "    <tr style=\"text-align: right;\">\n",
       "      <th></th>\n",
       "      <th>u</th>\n",
       "      <th>v</th>\n",
       "      <th>key</th>\n",
       "      <th>osmid</th>\n",
       "      <th>highway</th>\n",
       "      <th>lanes</th>\n",
       "      <th>maxspeed</th>\n",
       "      <th>cycleway</th>\n",
       "      <th>highway_score</th>\n",
       "    </tr>\n",
       "  </thead>\n",
       "  <tbody>\n",
       "    <tr>\n",
       "      <th>65</th>\n",
       "      <td>15434342</td>\n",
       "      <td>12418270450</td>\n",
       "      <td>0</td>\n",
       "      <td>157490140</td>\n",
       "      <td>tertiary</td>\n",
       "      <td>NaN</td>\n",
       "      <td>50.0</td>\n",
       "      <td>NaN</td>\n",
       "      <td>5.0</td>\n",
       "    </tr>\n",
       "    <tr>\n",
       "      <th>117</th>\n",
       "      <td>81679615</td>\n",
       "      <td>334325571</td>\n",
       "      <td>0</td>\n",
       "      <td>182745333</td>\n",
       "      <td>secondary</td>\n",
       "      <td>NaN</td>\n",
       "      <td>60.0</td>\n",
       "      <td>NaN</td>\n",
       "      <td>6.0</td>\n",
       "    </tr>\n",
       "    <tr>\n",
       "      <th>118</th>\n",
       "      <td>81679615</td>\n",
       "      <td>1931069882</td>\n",
       "      <td>0</td>\n",
       "      <td>34778579</td>\n",
       "      <td>secondary</td>\n",
       "      <td>NaN</td>\n",
       "      <td>60.0</td>\n",
       "      <td>lane</td>\n",
       "      <td>6.0</td>\n",
       "    </tr>\n",
       "    <tr>\n",
       "      <th>238</th>\n",
       "      <td>250197421</td>\n",
       "      <td>6865304496</td>\n",
       "      <td>0</td>\n",
       "      <td>23156783</td>\n",
       "      <td>unclassified</td>\n",
       "      <td>NaN</td>\n",
       "      <td>30.0</td>\n",
       "      <td>NaN</td>\n",
       "      <td>3.0</td>\n",
       "    </tr>\n",
       "    <tr>\n",
       "      <th>240</th>\n",
       "      <td>250197421</td>\n",
       "      <td>6865304502</td>\n",
       "      <td>0</td>\n",
       "      <td>886523201</td>\n",
       "      <td>unclassified</td>\n",
       "      <td>NaN</td>\n",
       "      <td>30.0</td>\n",
       "      <td>NaN</td>\n",
       "      <td>3.0</td>\n",
       "    </tr>\n",
       "    <tr>\n",
       "      <th>...</th>\n",
       "      <td>...</td>\n",
       "      <td>...</td>\n",
       "      <td>...</td>\n",
       "      <td>...</td>\n",
       "      <td>...</td>\n",
       "      <td>...</td>\n",
       "      <td>...</td>\n",
       "      <td>...</td>\n",
       "      <td>...</td>\n",
       "    </tr>\n",
       "    <tr>\n",
       "      <th>52327</th>\n",
       "      <td>12824853915</td>\n",
       "      <td>12824853936</td>\n",
       "      <td>0</td>\n",
       "      <td>647794810</td>\n",
       "      <td>residential</td>\n",
       "      <td>NaN</td>\n",
       "      <td>NaN</td>\n",
       "      <td>NaN</td>\n",
       "      <td>4.0</td>\n",
       "    </tr>\n",
       "    <tr>\n",
       "      <th>52328</th>\n",
       "      <td>12824853915</td>\n",
       "      <td>12824853936</td>\n",
       "      <td>1</td>\n",
       "      <td>647794810</td>\n",
       "      <td>residential</td>\n",
       "      <td>NaN</td>\n",
       "      <td>NaN</td>\n",
       "      <td>NaN</td>\n",
       "      <td>4.0</td>\n",
       "    </tr>\n",
       "    <tr>\n",
       "      <th>52329</th>\n",
       "      <td>12824853915</td>\n",
       "      <td>6082901179</td>\n",
       "      <td>0</td>\n",
       "      <td>647794810</td>\n",
       "      <td>residential</td>\n",
       "      <td>NaN</td>\n",
       "      <td>NaN</td>\n",
       "      <td>NaN</td>\n",
       "      <td>4.0</td>\n",
       "    </tr>\n",
       "    <tr>\n",
       "      <th>52330</th>\n",
       "      <td>12824853936</td>\n",
       "      <td>12824853915</td>\n",
       "      <td>0</td>\n",
       "      <td>647794810</td>\n",
       "      <td>residential</td>\n",
       "      <td>NaN</td>\n",
       "      <td>NaN</td>\n",
       "      <td>NaN</td>\n",
       "      <td>4.0</td>\n",
       "    </tr>\n",
       "    <tr>\n",
       "      <th>52331</th>\n",
       "      <td>12824853936</td>\n",
       "      <td>12824853915</td>\n",
       "      <td>1</td>\n",
       "      <td>647794810</td>\n",
       "      <td>residential</td>\n",
       "      <td>NaN</td>\n",
       "      <td>NaN</td>\n",
       "      <td>NaN</td>\n",
       "      <td>4.0</td>\n",
       "    </tr>\n",
       "  </tbody>\n",
       "</table>\n",
       "<p>1052 rows × 9 columns</p>\n",
       "</div>"
      ],
      "text/plain": [
       "                 u            v  key      osmid       highway  lanes  \\\n",
       "65        15434342  12418270450    0  157490140      tertiary    NaN   \n",
       "117       81679615    334325571    0  182745333     secondary    NaN   \n",
       "118       81679615   1931069882    0   34778579     secondary    NaN   \n",
       "238      250197421   6865304496    0   23156783  unclassified    NaN   \n",
       "240      250197421   6865304502    0  886523201  unclassified    NaN   \n",
       "...            ...          ...  ...        ...           ...    ...   \n",
       "52327  12824853915  12824853936    0  647794810   residential    NaN   \n",
       "52328  12824853915  12824853936    1  647794810   residential    NaN   \n",
       "52329  12824853915   6082901179    0  647794810   residential    NaN   \n",
       "52330  12824853936  12824853915    0  647794810   residential    NaN   \n",
       "52331  12824853936  12824853915    1  647794810   residential    NaN   \n",
       "\n",
       "       maxspeed cycleway  highway_score  \n",
       "65         50.0      NaN            5.0  \n",
       "117        60.0      NaN            6.0  \n",
       "118        60.0     lane            6.0  \n",
       "238        30.0      NaN            3.0  \n",
       "240        30.0      NaN            3.0  \n",
       "...         ...      ...            ...  \n",
       "52327       NaN      NaN            4.0  \n",
       "52328       NaN      NaN            4.0  \n",
       "52329       NaN      NaN            4.0  \n",
       "52330       NaN      NaN            4.0  \n",
       "52331       NaN      NaN            4.0  \n",
       "\n",
       "[1052 rows x 9 columns]"
      ]
     },
     "execution_count": 624,
     "metadata": {},
     "output_type": "execute_result"
    }
   ],
   "source": [
    "d[d['lanes'].isna()]"
   ]
  },
  {
   "cell_type": "markdown",
   "id": "25a0456a-ce54-452e-9c64-8b666fe89a03",
   "metadata": {},
   "source": [
    "## 4.4 Merging with centrality values"
   ]
  },
  {
   "cell_type": "code",
   "execution_count": 625,
   "id": "94206954-ea2d-4437-bd4c-04ea81d8a965",
   "metadata": {},
   "outputs": [],
   "source": [
    "# Creating df from centrality dicitionary\n",
    "df_centrality = pd.DataFrame.from_dict(edge_centrality, orient='index')\n",
    "df_centrality.reset_index(inplace=True)"
   ]
  },
  {
   "cell_type": "code",
   "execution_count": 626,
   "id": "6906bef9-fb71-4aae-a9ba-2c3dee02937d",
   "metadata": {},
   "outputs": [
    {
     "data": {
      "text/html": [
       "<div>\n",
       "<style scoped>\n",
       "    .dataframe tbody tr th:only-of-type {\n",
       "        vertical-align: middle;\n",
       "    }\n",
       "\n",
       "    .dataframe tbody tr th {\n",
       "        vertical-align: top;\n",
       "    }\n",
       "\n",
       "    .dataframe thead th {\n",
       "        text-align: right;\n",
       "    }\n",
       "</style>\n",
       "<table border=\"1\" class=\"dataframe\">\n",
       "  <thead>\n",
       "    <tr style=\"text-align: right;\">\n",
       "      <th></th>\n",
       "      <th>index</th>\n",
       "      <th>0</th>\n",
       "    </tr>\n",
       "  </thead>\n",
       "  <tbody>\n",
       "    <tr>\n",
       "      <th>0</th>\n",
       "      <td>(10782939, 340086040, 0)</td>\n",
       "      <td>0.015234</td>\n",
       "    </tr>\n",
       "    <tr>\n",
       "      <th>1</th>\n",
       "      <td>(340086040, 533769766, 0)</td>\n",
       "      <td>0.076092</td>\n",
       "    </tr>\n",
       "    <tr>\n",
       "      <th>2</th>\n",
       "      <td>(340086040, 10782939, 0)</td>\n",
       "      <td>0.015234</td>\n",
       "    </tr>\n",
       "    <tr>\n",
       "      <th>3</th>\n",
       "      <td>(340086040, 416248972, 0)</td>\n",
       "      <td>0.019929</td>\n",
       "    </tr>\n",
       "    <tr>\n",
       "      <th>4</th>\n",
       "      <td>(340086040, 340086020, 0)</td>\n",
       "      <td>0.084228</td>\n",
       "    </tr>\n",
       "  </tbody>\n",
       "</table>\n",
       "</div>"
      ],
      "text/plain": [
       "                       index         0\n",
       "0   (10782939, 340086040, 0)  0.015234\n",
       "1  (340086040, 533769766, 0)  0.076092\n",
       "2   (340086040, 10782939, 0)  0.015234\n",
       "3  (340086040, 416248972, 0)  0.019929\n",
       "4  (340086040, 340086020, 0)  0.084228"
      ]
     },
     "execution_count": 626,
     "metadata": {},
     "output_type": "execute_result"
    }
   ],
   "source": [
    "df_centrality.head()"
   ]
  },
  {
   "cell_type": "code",
   "execution_count": 627,
   "id": "13a428ee-edfc-40a0-a000-79dc0f667b7c",
   "metadata": {},
   "outputs": [],
   "source": [
    "# Splitting index list into u, v, and key values\n",
    "i_index = df_centrality.columns.get_loc('index')\n",
    "\n",
    "# creating new columns\n",
    "df_centrality['u'] = np.nan\n",
    "df_centrality['v'] = np.nan\n",
    "df_centrality['key'] = np.nan\n",
    "\n",
    "for i in df_centrality.index:\n",
    "    value_list = df_centrality.loc[i, 'index']\n",
    "    df_centrality.loc[i, 'u'] = value_list[0]\n",
    "    df_centrality.loc[i, 'v'] = value_list[1]\n",
    "    df_centrality.loc[i, 'key'] = value_list[2]"
   ]
  },
  {
   "cell_type": "code",
   "execution_count": 628,
   "id": "753ef8fd-aed1-4861-9d16-04a95caa50c1",
   "metadata": {},
   "outputs": [
    {
     "name": "stdout",
     "output_type": "stream",
     "text": [
      "number of centrality values: 52600\n"
     ]
    },
    {
     "data": {
      "text/html": [
       "<div>\n",
       "<style scoped>\n",
       "    .dataframe tbody tr th:only-of-type {\n",
       "        vertical-align: middle;\n",
       "    }\n",
       "\n",
       "    .dataframe tbody tr th {\n",
       "        vertical-align: top;\n",
       "    }\n",
       "\n",
       "    .dataframe thead th {\n",
       "        text-align: right;\n",
       "    }\n",
       "</style>\n",
       "<table border=\"1\" class=\"dataframe\">\n",
       "  <thead>\n",
       "    <tr style=\"text-align: right;\">\n",
       "      <th></th>\n",
       "      <th>index</th>\n",
       "      <th>0</th>\n",
       "      <th>u</th>\n",
       "      <th>v</th>\n",
       "      <th>key</th>\n",
       "    </tr>\n",
       "  </thead>\n",
       "  <tbody>\n",
       "    <tr>\n",
       "      <th>0</th>\n",
       "      <td>(10782939, 340086040, 0)</td>\n",
       "      <td>0.015234</td>\n",
       "      <td>10782939.0</td>\n",
       "      <td>340086040.0</td>\n",
       "      <td>0.0</td>\n",
       "    </tr>\n",
       "    <tr>\n",
       "      <th>1</th>\n",
       "      <td>(340086040, 533769766, 0)</td>\n",
       "      <td>0.076092</td>\n",
       "      <td>340086040.0</td>\n",
       "      <td>533769766.0</td>\n",
       "      <td>0.0</td>\n",
       "    </tr>\n",
       "    <tr>\n",
       "      <th>2</th>\n",
       "      <td>(340086040, 10782939, 0)</td>\n",
       "      <td>0.015234</td>\n",
       "      <td>340086040.0</td>\n",
       "      <td>10782939.0</td>\n",
       "      <td>0.0</td>\n",
       "    </tr>\n",
       "    <tr>\n",
       "      <th>3</th>\n",
       "      <td>(340086040, 416248972, 0)</td>\n",
       "      <td>0.019929</td>\n",
       "      <td>340086040.0</td>\n",
       "      <td>416248972.0</td>\n",
       "      <td>0.0</td>\n",
       "    </tr>\n",
       "    <tr>\n",
       "      <th>4</th>\n",
       "      <td>(340086040, 340086020, 0)</td>\n",
       "      <td>0.084228</td>\n",
       "      <td>340086040.0</td>\n",
       "      <td>340086020.0</td>\n",
       "      <td>0.0</td>\n",
       "    </tr>\n",
       "  </tbody>\n",
       "</table>\n",
       "</div>"
      ],
      "text/plain": [
       "                       index         0            u            v  key\n",
       "0   (10782939, 340086040, 0)  0.015234   10782939.0  340086040.0  0.0\n",
       "1  (340086040, 533769766, 0)  0.076092  340086040.0  533769766.0  0.0\n",
       "2   (340086040, 10782939, 0)  0.015234  340086040.0   10782939.0  0.0\n",
       "3  (340086040, 416248972, 0)  0.019929  340086040.0  416248972.0  0.0\n",
       "4  (340086040, 340086020, 0)  0.084228  340086040.0  340086020.0  0.0"
      ]
     },
     "execution_count": 628,
     "metadata": {},
     "output_type": "execute_result"
    }
   ],
   "source": [
    "print('number of centrality values:', len(df_centrality))\n",
    "df_centrality.head()"
   ]
  },
  {
   "cell_type": "code",
   "execution_count": 629,
   "id": "be76ebe7-abd3-42c0-9dd6-4d6aa8c0a291",
   "metadata": {},
   "outputs": [],
   "source": [
    "# Merging centrality df with d dataframe\n",
    "d = d.merge(df_centrality[[0, 'u', 'v', 'key']], how='left', on=['u', 'v', 'key'])\n",
    "\n",
    "# todrop = ['index_x', 'index_y']\n",
    "torename = {\n",
    "    0:'centrality'\n",
    "}\n",
    "# d.drop(todrop, axis=1, inplace=True)\n",
    "d.rename(columns = torename, inplace=True)"
   ]
  },
  {
   "cell_type": "code",
   "execution_count": 630,
   "id": "6123313b-42f1-482f-afe9-034262134094",
   "metadata": {},
   "outputs": [
    {
     "name": "stdout",
     "output_type": "stream",
     "text": [
      "16038\n"
     ]
    }
   ],
   "source": [
    "print(len(d))"
   ]
  },
  {
   "cell_type": "code",
   "execution_count": 631,
   "id": "a27a5e77-2d37-4c1e-8476-467f3b36d201",
   "metadata": {},
   "outputs": [
    {
     "data": {
      "text/html": [
       "<div>\n",
       "<style scoped>\n",
       "    .dataframe tbody tr th:only-of-type {\n",
       "        vertical-align: middle;\n",
       "    }\n",
       "\n",
       "    .dataframe tbody tr th {\n",
       "        vertical-align: top;\n",
       "    }\n",
       "\n",
       "    .dataframe thead th {\n",
       "        text-align: right;\n",
       "    }\n",
       "</style>\n",
       "<table border=\"1\" class=\"dataframe\">\n",
       "  <thead>\n",
       "    <tr style=\"text-align: right;\">\n",
       "      <th></th>\n",
       "      <th>u</th>\n",
       "      <th>v</th>\n",
       "      <th>key</th>\n",
       "      <th>osmid</th>\n",
       "      <th>highway</th>\n",
       "      <th>lanes</th>\n",
       "      <th>maxspeed</th>\n",
       "      <th>cycleway</th>\n",
       "      <th>highway_score</th>\n",
       "      <th>centrality</th>\n",
       "    </tr>\n",
       "  </thead>\n",
       "  <tbody>\n",
       "    <tr>\n",
       "      <th>0</th>\n",
       "      <td>10782939</td>\n",
       "      <td>340086040</td>\n",
       "      <td>0</td>\n",
       "      <td>196461233</td>\n",
       "      <td>secondary</td>\n",
       "      <td>2.0</td>\n",
       "      <td>60.0</td>\n",
       "      <td>lane</td>\n",
       "      <td>6.0</td>\n",
       "      <td>0.015234</td>\n",
       "    </tr>\n",
       "    <tr>\n",
       "      <th>1</th>\n",
       "      <td>10782939</td>\n",
       "      <td>533769764</td>\n",
       "      <td>0</td>\n",
       "      <td>384921496</td>\n",
       "      <td>secondary</td>\n",
       "      <td>2.0</td>\n",
       "      <td>60.0</td>\n",
       "      <td>NaN</td>\n",
       "      <td>6.0</td>\n",
       "      <td>0.007691</td>\n",
       "    </tr>\n",
       "    <tr>\n",
       "      <th>2</th>\n",
       "      <td>10782939</td>\n",
       "      <td>295175096</td>\n",
       "      <td>0</td>\n",
       "      <td>196461233</td>\n",
       "      <td>secondary</td>\n",
       "      <td>2.0</td>\n",
       "      <td>60.0</td>\n",
       "      <td>lane</td>\n",
       "      <td>6.0</td>\n",
       "      <td>0.023395</td>\n",
       "    </tr>\n",
       "    <tr>\n",
       "      <th>3</th>\n",
       "      <td>10782939</td>\n",
       "      <td>295175045</td>\n",
       "      <td>0</td>\n",
       "      <td>[38896609, 871538111]</td>\n",
       "      <td>secondary</td>\n",
       "      <td>2.0</td>\n",
       "      <td>60.0</td>\n",
       "      <td>lane</td>\n",
       "      <td>6.0</td>\n",
       "      <td>0.023325</td>\n",
       "    </tr>\n",
       "    <tr>\n",
       "      <th>4</th>\n",
       "      <td>10782965</td>\n",
       "      <td>340086081</td>\n",
       "      <td>0</td>\n",
       "      <td>503446166</td>\n",
       "      <td>secondary</td>\n",
       "      <td>2.0</td>\n",
       "      <td>60.0</td>\n",
       "      <td>NaN</td>\n",
       "      <td>6.0</td>\n",
       "      <td>0.015148</td>\n",
       "    </tr>\n",
       "  </tbody>\n",
       "</table>\n",
       "</div>"
      ],
      "text/plain": [
       "          u          v  key                  osmid    highway  lanes  \\\n",
       "0  10782939  340086040    0              196461233  secondary    2.0   \n",
       "1  10782939  533769764    0              384921496  secondary    2.0   \n",
       "2  10782939  295175096    0              196461233  secondary    2.0   \n",
       "3  10782939  295175045    0  [38896609, 871538111]  secondary    2.0   \n",
       "4  10782965  340086081    0              503446166  secondary    2.0   \n",
       "\n",
       "   maxspeed cycleway  highway_score  centrality  \n",
       "0      60.0     lane            6.0    0.015234  \n",
       "1      60.0      NaN            6.0    0.007691  \n",
       "2      60.0     lane            6.0    0.023395  \n",
       "3      60.0     lane            6.0    0.023325  \n",
       "4      60.0      NaN            6.0    0.015148  "
      ]
     },
     "execution_count": 631,
     "metadata": {},
     "output_type": "execute_result"
    }
   ],
   "source": [
    "d.head()"
   ]
  },
  {
   "cell_type": "markdown",
   "id": "64d9d3a5-15f5-4759-86f3-98d1919413fc",
   "metadata": {},
   "source": [
    "## 4.5 Resolving missing datapoints"
   ]
  },
  {
   "cell_type": "code",
   "execution_count": 632,
   "id": "505c6429-c17f-4886-9913-014ce30489b7",
   "metadata": {},
   "outputs": [
    {
     "name": "stdout",
     "output_type": "stream",
     "text": [
      "Percent missing from u :  0.0\n",
      "Percent missing from v :  0.0\n",
      "Percent missing from key :  0.0\n",
      "Percent missing from osmid :  0.0\n",
      "Percent missing from highway :  0.0\n",
      "Percent missing from lanes :  6.559421374236189\n",
      "Percent missing from maxspeed :  61.69098391320613\n",
      "Percent missing from cycleway :  90.01122334455668\n",
      "Percent missing from highway_score :  0.0\n",
      "Percent missing from centrality :  0.0\n",
      "lanes can be used since missing values are only ~6%, may replace missing with mean depending on relationship \n",
      "between lane number and other factors\n"
     ]
    }
   ],
   "source": [
    "for col in d.columns:\n",
    "    perc_missing = 100*(d[col].isna().sum())/(len(d[col]))\n",
    "    print('Percent missing from', col, ': ', perc_missing)\n",
    "\n",
    "print('lanes can be used since missing values are only ~6%, may replace missing with mean depending on relationship \\nbetween lane number and other factors')"
   ]
  },
  {
   "cell_type": "markdown",
   "id": "232d7913",
   "metadata": {},
   "source": [
    "For NA values in lanes - will take the mean by each highway type, then reassign na values for that highway type back to the NA value"
   ]
  },
  {
   "cell_type": "code",
   "execution_count": 633,
   "id": "5ae047bb",
   "metadata": {},
   "outputs": [
    {
     "name": "stdout",
     "output_type": "stream",
     "text": [
      "NAs in lanes before: 1052\n",
      "number of NA values for lanes of type secondary 132\n",
      "mean for highway type secondary 2.9332688588007736\n",
      "number of NA values for lanes of type tertiary 104\n",
      "mean for highway type tertiary 1.7725250278086764\n",
      "number of NA values for lanes of type unclassified 130\n",
      "mean for highway type unclassified 1.9044289044289044\n",
      "number of NA values for lanes of type residential 676\n",
      "mean for highway type residential 1.9191034131431481\n",
      "number of NA values for lanes of type tertiary_link 2\n",
      "mean for highway type tertiary_link 1.4\n",
      "number of NA values for lanes of type living_street 8\n",
      "mean for highway type living_street 1.0\n",
      "All previous NAs should now be the mean value: lanes\n",
      "2.000000    11931\n",
      "1.000000     1784\n",
      "1.919103      676\n",
      "4.000000      615\n",
      "3.000000      436\n",
      "5.000000      212\n",
      "2.933269      132\n",
      "1.904429      130\n",
      "1.772525      104\n",
      "6.000000       16\n",
      "1.400000        2\n",
      "Name: count, dtype: int64\n",
      "NAs in lanes after: 0\n"
     ]
    }
   ],
   "source": [
    "# TODO: find mean value for each highway type, then reassign for NA values\n",
    "\n",
    "print('NAs in lanes before:', d['lanes'].isna().sum())\n",
    "\n",
    "\n",
    "for h in d['highway'].unique():\n",
    "    print('number of NA values for lanes of type', h, d.loc[d['highway']==h, 'lanes'].isna().sum())\n",
    "\n",
    "    mean = d.loc[d['highway']==h, 'lanes'].mean()\n",
    "\n",
    "    print('mean for highway type', h, mean)\n",
    "    d.loc[d['highway']==h, 'lanes'] = d.loc[d['highway']==h, 'lanes'].fillna(mean)\n",
    "\n",
    "\n",
    "print('All previous NAs should now be the mean value:', d['lanes'].value_counts(dropna=False))\n",
    "print('NAs in lanes after:', d['lanes'].isna().sum())\n"
   ]
  },
  {
   "cell_type": "code",
   "execution_count": 634,
   "id": "5a47ac38",
   "metadata": {},
   "outputs": [
    {
     "name": "stdout",
     "output_type": "stream",
     "text": [
      "NAs before: 0\n",
      "NAs after: 0\n"
     ]
    },
    {
     "name": "stderr",
     "output_type": "stream",
     "text": [
      "/var/folders/km/yjwvs1v17s53cm1j806_1chc0000gn/T/ipykernel_22460/1312042897.py:3: FutureWarning: A value is trying to be set on a copy of a DataFrame or Series through chained assignment using an inplace method.\n",
      "The behavior will change in pandas 3.0. This inplace method will never work because the intermediate object on which we are setting values always behaves as a copy.\n",
      "\n",
      "For example, when doing 'df[col].method(value, inplace=True)', try using 'df.method({col: value}, inplace=True)' or df[col] = df[col].method(value) instead, to perform the operation inplace on the original object.\n",
      "\n",
      "\n",
      "  d['lanes'].fillna(value = d['lanes'].mean(), inplace=True)\n"
     ]
    }
   ],
   "source": [
    "print('NAs before:', d['lanes'].isna().sum())\n",
    "\n",
    "d['lanes'].fillna(value = d['lanes'].mean(), inplace=True)\n",
    "\n",
    "print('NAs after:', d['lanes'].isna().sum())"
   ]
  },
  {
   "cell_type": "code",
   "execution_count": 635,
   "id": "8bcec7a8",
   "metadata": {},
   "outputs": [
    {
     "data": {
      "text/plain": [
       "array([2.        , 3.        , 1.        , 4.        , 5.        ,\n",
       "       1.77252503, 2.93326886, 1.9044289 , 1.91910341, 6.        ,\n",
       "       1.4       ])"
      ]
     },
     "execution_count": 635,
     "metadata": {},
     "output_type": "execute_result"
    }
   ],
   "source": [
    "d['lanes'].unique()"
   ]
  },
  {
   "cell_type": "code",
   "execution_count": 636,
   "id": "e561a80a-126a-4065-9ae6-8ac037a0db0d",
   "metadata": {},
   "outputs": [
    {
     "name": "stdout",
     "output_type": "stream",
     "text": [
      "highway\n",
      "residential      10491\n",
      "secondary         2200\n",
      "tertiary          1902\n",
      "unclassified      1417\n",
      "living_street       16\n",
      "tertiary_link       12\n",
      "Name: count, dtype: int64\n",
      "highway\n",
      "residential     2683\n",
      "secondary       1900\n",
      "tertiary        1168\n",
      "unclassified     393\n",
      "Name: count, dtype: int64\n"
     ]
    }
   ],
   "source": [
    "# Missing values only from lanes (6%) and maxspeed (63%)\n",
    "print(d.loc[d['lanes'].notna(), 'highway'].value_counts())\n",
    "print(d.loc[d['maxspeed'].notna(), 'highway'].value_counts())"
   ]
  },
  {
   "cell_type": "code",
   "execution_count": 637,
   "id": "b2b75af4",
   "metadata": {},
   "outputs": [
    {
     "data": {
      "text/html": [
       "<div>\n",
       "<style scoped>\n",
       "    .dataframe tbody tr th:only-of-type {\n",
       "        vertical-align: middle;\n",
       "    }\n",
       "\n",
       "    .dataframe tbody tr th {\n",
       "        vertical-align: top;\n",
       "    }\n",
       "\n",
       "    .dataframe thead th {\n",
       "        text-align: right;\n",
       "    }\n",
       "</style>\n",
       "<table border=\"1\" class=\"dataframe\">\n",
       "  <thead>\n",
       "    <tr style=\"text-align: right;\">\n",
       "      <th></th>\n",
       "      <th>u</th>\n",
       "      <th>v</th>\n",
       "      <th>key</th>\n",
       "      <th>osmid</th>\n",
       "      <th>highway</th>\n",
       "      <th>lanes</th>\n",
       "      <th>maxspeed</th>\n",
       "      <th>cycleway</th>\n",
       "      <th>highway_score</th>\n",
       "      <th>centrality</th>\n",
       "    </tr>\n",
       "  </thead>\n",
       "  <tbody>\n",
       "    <tr>\n",
       "      <th>0</th>\n",
       "      <td>10782939</td>\n",
       "      <td>340086040</td>\n",
       "      <td>0</td>\n",
       "      <td>196461233</td>\n",
       "      <td>secondary</td>\n",
       "      <td>2.0</td>\n",
       "      <td>60.0</td>\n",
       "      <td>lane</td>\n",
       "      <td>6.0</td>\n",
       "      <td>0.015234</td>\n",
       "    </tr>\n",
       "    <tr>\n",
       "      <th>1</th>\n",
       "      <td>10782939</td>\n",
       "      <td>533769764</td>\n",
       "      <td>0</td>\n",
       "      <td>384921496</td>\n",
       "      <td>secondary</td>\n",
       "      <td>2.0</td>\n",
       "      <td>60.0</td>\n",
       "      <td>NaN</td>\n",
       "      <td>6.0</td>\n",
       "      <td>0.007691</td>\n",
       "    </tr>\n",
       "    <tr>\n",
       "      <th>2</th>\n",
       "      <td>10782939</td>\n",
       "      <td>295175096</td>\n",
       "      <td>0</td>\n",
       "      <td>196461233</td>\n",
       "      <td>secondary</td>\n",
       "      <td>2.0</td>\n",
       "      <td>60.0</td>\n",
       "      <td>lane</td>\n",
       "      <td>6.0</td>\n",
       "      <td>0.023395</td>\n",
       "    </tr>\n",
       "    <tr>\n",
       "      <th>3</th>\n",
       "      <td>10782939</td>\n",
       "      <td>295175045</td>\n",
       "      <td>0</td>\n",
       "      <td>[38896609, 871538111]</td>\n",
       "      <td>secondary</td>\n",
       "      <td>2.0</td>\n",
       "      <td>60.0</td>\n",
       "      <td>lane</td>\n",
       "      <td>6.0</td>\n",
       "      <td>0.023325</td>\n",
       "    </tr>\n",
       "    <tr>\n",
       "      <th>4</th>\n",
       "      <td>10782965</td>\n",
       "      <td>340086081</td>\n",
       "      <td>0</td>\n",
       "      <td>503446166</td>\n",
       "      <td>secondary</td>\n",
       "      <td>2.0</td>\n",
       "      <td>60.0</td>\n",
       "      <td>NaN</td>\n",
       "      <td>6.0</td>\n",
       "      <td>0.015148</td>\n",
       "    </tr>\n",
       "    <tr>\n",
       "      <th>...</th>\n",
       "      <td>...</td>\n",
       "      <td>...</td>\n",
       "      <td>...</td>\n",
       "      <td>...</td>\n",
       "      <td>...</td>\n",
       "      <td>...</td>\n",
       "      <td>...</td>\n",
       "      <td>...</td>\n",
       "      <td>...</td>\n",
       "      <td>...</td>\n",
       "    </tr>\n",
       "    <tr>\n",
       "      <th>16033</th>\n",
       "      <td>12914941146</td>\n",
       "      <td>281861333</td>\n",
       "      <td>0</td>\n",
       "      <td>26778034</td>\n",
       "      <td>residential</td>\n",
       "      <td>2.0</td>\n",
       "      <td>NaN</td>\n",
       "      <td>NaN</td>\n",
       "      <td>4.0</td>\n",
       "      <td>0.000145</td>\n",
       "    </tr>\n",
       "    <tr>\n",
       "      <th>16034</th>\n",
       "      <td>12914941146</td>\n",
       "      <td>12914891937</td>\n",
       "      <td>0</td>\n",
       "      <td>26778034</td>\n",
       "      <td>residential</td>\n",
       "      <td>2.0</td>\n",
       "      <td>NaN</td>\n",
       "      <td>NaN</td>\n",
       "      <td>4.0</td>\n",
       "      <td>0.000197</td>\n",
       "    </tr>\n",
       "    <tr>\n",
       "      <th>16035</th>\n",
       "      <td>12920378968</td>\n",
       "      <td>12688766046</td>\n",
       "      <td>0</td>\n",
       "      <td>1087603806</td>\n",
       "      <td>residential</td>\n",
       "      <td>2.0</td>\n",
       "      <td>NaN</td>\n",
       "      <td>NaN</td>\n",
       "      <td>4.0</td>\n",
       "      <td>0.000121</td>\n",
       "    </tr>\n",
       "    <tr>\n",
       "      <th>16036</th>\n",
       "      <td>12920378968</td>\n",
       "      <td>12920407984</td>\n",
       "      <td>0</td>\n",
       "      <td>1087603806</td>\n",
       "      <td>residential</td>\n",
       "      <td>2.0</td>\n",
       "      <td>NaN</td>\n",
       "      <td>NaN</td>\n",
       "      <td>4.0</td>\n",
       "      <td>0.000019</td>\n",
       "    </tr>\n",
       "    <tr>\n",
       "      <th>16037</th>\n",
       "      <td>12920407984</td>\n",
       "      <td>12920378968</td>\n",
       "      <td>0</td>\n",
       "      <td>1087603806</td>\n",
       "      <td>residential</td>\n",
       "      <td>2.0</td>\n",
       "      <td>NaN</td>\n",
       "      <td>NaN</td>\n",
       "      <td>4.0</td>\n",
       "      <td>0.000019</td>\n",
       "    </tr>\n",
       "  </tbody>\n",
       "</table>\n",
       "<p>16038 rows × 10 columns</p>\n",
       "</div>"
      ],
      "text/plain": [
       "                 u            v  key                  osmid      highway  \\\n",
       "0         10782939    340086040    0              196461233    secondary   \n",
       "1         10782939    533769764    0              384921496    secondary   \n",
       "2         10782939    295175096    0              196461233    secondary   \n",
       "3         10782939    295175045    0  [38896609, 871538111]    secondary   \n",
       "4         10782965    340086081    0              503446166    secondary   \n",
       "...            ...          ...  ...                    ...          ...   \n",
       "16033  12914941146    281861333    0               26778034  residential   \n",
       "16034  12914941146  12914891937    0               26778034  residential   \n",
       "16035  12920378968  12688766046    0             1087603806  residential   \n",
       "16036  12920378968  12920407984    0             1087603806  residential   \n",
       "16037  12920407984  12920378968    0             1087603806  residential   \n",
       "\n",
       "       lanes  maxspeed cycleway  highway_score  centrality  \n",
       "0        2.0      60.0     lane            6.0    0.015234  \n",
       "1        2.0      60.0      NaN            6.0    0.007691  \n",
       "2        2.0      60.0     lane            6.0    0.023395  \n",
       "3        2.0      60.0     lane            6.0    0.023325  \n",
       "4        2.0      60.0      NaN            6.0    0.015148  \n",
       "...      ...       ...      ...            ...         ...  \n",
       "16033    2.0       NaN      NaN            4.0    0.000145  \n",
       "16034    2.0       NaN      NaN            4.0    0.000197  \n",
       "16035    2.0       NaN      NaN            4.0    0.000121  \n",
       "16036    2.0       NaN      NaN            4.0    0.000019  \n",
       "16037    2.0       NaN      NaN            4.0    0.000019  \n",
       "\n",
       "[16038 rows x 10 columns]"
      ]
     },
     "execution_count": 637,
     "metadata": {},
     "output_type": "execute_result"
    }
   ],
   "source": [
    "d"
   ]
  },
  {
   "cell_type": "markdown",
   "id": "38733cce-d9a8-45b8-b2fb-16f1cd6a2b5a",
   "metadata": {},
   "source": [
    "# 5. Creating composite indicator\n",
    "Steps: \n",
    "1. Normalize all variables to be between 0 and 1 (basic min-max scaling)\n",
    "2. Create weights\n",
    "3. Create function to combine using weights\n",
    "4. Reassign indicator value to all road sections\n",
    "5. Assign a colour scale to each indicator value"
   ]
  },
  {
   "cell_type": "code",
   "execution_count": 638,
   "id": "9e76a608",
   "metadata": {},
   "outputs": [],
   "source": [
    "indics = ['highway_score', 'lanes', 'centrality']"
   ]
  },
  {
   "cell_type": "markdown",
   "id": "9472e3c7",
   "metadata": {},
   "source": [
    "## 5.1 Normalizing indicator values"
   ]
  },
  {
   "cell_type": "code",
   "execution_count": 639,
   "id": "f393bb38",
   "metadata": {},
   "outputs": [
    {
     "name": "stdout",
     "output_type": "stream",
     "text": [
      "0.0 1.0\n",
      "0.0 1.0\n",
      "0.0 1.0\n"
     ]
    },
    {
     "data": {
      "text/html": [
       "<div>\n",
       "<style scoped>\n",
       "    .dataframe tbody tr th:only-of-type {\n",
       "        vertical-align: middle;\n",
       "    }\n",
       "\n",
       "    .dataframe tbody tr th {\n",
       "        vertical-align: top;\n",
       "    }\n",
       "\n",
       "    .dataframe thead th {\n",
       "        text-align: right;\n",
       "    }\n",
       "</style>\n",
       "<table border=\"1\" class=\"dataframe\">\n",
       "  <thead>\n",
       "    <tr style=\"text-align: right;\">\n",
       "      <th></th>\n",
       "      <th>highway_score_norm</th>\n",
       "      <th>lanes_norm</th>\n",
       "      <th>centrality_norm</th>\n",
       "    </tr>\n",
       "  </thead>\n",
       "  <tbody>\n",
       "    <tr>\n",
       "      <th>0</th>\n",
       "      <td>1.0</td>\n",
       "      <td>0.2</td>\n",
       "      <td>0.139553</td>\n",
       "    </tr>\n",
       "    <tr>\n",
       "      <th>1</th>\n",
       "      <td>1.0</td>\n",
       "      <td>0.2</td>\n",
       "      <td>0.070455</td>\n",
       "    </tr>\n",
       "    <tr>\n",
       "      <th>2</th>\n",
       "      <td>1.0</td>\n",
       "      <td>0.2</td>\n",
       "      <td>0.214306</td>\n",
       "    </tr>\n",
       "    <tr>\n",
       "      <th>3</th>\n",
       "      <td>1.0</td>\n",
       "      <td>0.2</td>\n",
       "      <td>0.213665</td>\n",
       "    </tr>\n",
       "    <tr>\n",
       "      <th>4</th>\n",
       "      <td>1.0</td>\n",
       "      <td>0.2</td>\n",
       "      <td>0.138765</td>\n",
       "    </tr>\n",
       "    <tr>\n",
       "      <th>...</th>\n",
       "      <td>...</td>\n",
       "      <td>...</td>\n",
       "      <td>...</td>\n",
       "    </tr>\n",
       "    <tr>\n",
       "      <th>16033</th>\n",
       "      <td>0.6</td>\n",
       "      <td>0.2</td>\n",
       "      <td>0.001324</td>\n",
       "    </tr>\n",
       "    <tr>\n",
       "      <th>16034</th>\n",
       "      <td>0.6</td>\n",
       "      <td>0.2</td>\n",
       "      <td>0.001808</td>\n",
       "    </tr>\n",
       "    <tr>\n",
       "      <th>16035</th>\n",
       "      <td>0.6</td>\n",
       "      <td>0.2</td>\n",
       "      <td>0.001111</td>\n",
       "    </tr>\n",
       "    <tr>\n",
       "      <th>16036</th>\n",
       "      <td>0.6</td>\n",
       "      <td>0.2</td>\n",
       "      <td>0.000174</td>\n",
       "    </tr>\n",
       "    <tr>\n",
       "      <th>16037</th>\n",
       "      <td>0.6</td>\n",
       "      <td>0.2</td>\n",
       "      <td>0.000174</td>\n",
       "    </tr>\n",
       "  </tbody>\n",
       "</table>\n",
       "<p>16038 rows × 3 columns</p>\n",
       "</div>"
      ],
      "text/plain": [
       "       highway_score_norm  lanes_norm  centrality_norm\n",
       "0                     1.0         0.2         0.139553\n",
       "1                     1.0         0.2         0.070455\n",
       "2                     1.0         0.2         0.214306\n",
       "3                     1.0         0.2         0.213665\n",
       "4                     1.0         0.2         0.138765\n",
       "...                   ...         ...              ...\n",
       "16033                 0.6         0.2         0.001324\n",
       "16034                 0.6         0.2         0.001808\n",
       "16035                 0.6         0.2         0.001111\n",
       "16036                 0.6         0.2         0.000174\n",
       "16037                 0.6         0.2         0.000174\n",
       "\n",
       "[16038 rows x 3 columns]"
      ]
     },
     "execution_count": 639,
     "metadata": {},
     "output_type": "execute_result"
    }
   ],
   "source": [
    "for indic in indics:\n",
    "    values = d[indic]\n",
    "    d[f'{indic}_norm'] = (values - values.min())/(values.max() - values.min())\n",
    "\n",
    "    print(d[f'{indic}_norm'].min(), d[f'{indic}_norm'].max())\n",
    "    # print(d[indic].describe())\n",
    "    # print(d[f'{indic}_norm'].describe())\n",
    "\n",
    "# Creating new df with only indicator values\n",
    "d_norm = d[[f'{indic}_norm' for indic in indics]]\n",
    "\n",
    "d_norm\n"
   ]
  },
  {
   "cell_type": "markdown",
   "id": "c5519522-f3cd-409c-b64f-cf7f8188c9c4",
   "metadata": {},
   "source": [
    "## 5.2 Computing indicator"
   ]
  },
  {
   "cell_type": "markdown",
   "id": "6daaa3d5-19a2-41ca-9e4a-3c33bf238db9",
   "metadata": {},
   "source": [
    "### 5.2.1 Simple mean"
   ]
  },
  {
   "cell_type": "code",
   "execution_count": 640,
   "id": "4cf72557-254f-44a3-ad0d-d9b1f9e75882",
   "metadata": {},
   "outputs": [],
   "source": [
    "# Combining\n",
    "indic_cols = ['lanes_norm', 'highway_score_norm', 'centrality_norm']\n",
    "\n",
    "d['mean'] = d[indic_cols].mean(axis=1)"
   ]
  },
  {
   "cell_type": "markdown",
   "id": "b2090129-033d-4e8a-a24b-a8f3067886e4",
   "metadata": {},
   "source": [
    "### 5.2.2 Weighted average"
   ]
  },
  {
   "cell_type": "code",
   "execution_count": 641,
   "id": "7f56c02f-ab94-4955-9304-84dae0d3492e",
   "metadata": {},
   "outputs": [],
   "source": [
    "indic_cols = ['lanes_norm', 'highway_score_norm', 'centrality_norm']\n",
    "\n",
    "lanes_weight = 1\n",
    "highway_weight = 3\n",
    "centrality_weight = 5\n",
    "weightsum = lanes_weight + highway_weight + centrality_weight\n",
    "\n",
    "# Summing with weights\n",
    "d['weighted_mean'] = (d['lanes_norm']*lanes_weight + d['highway_score_norm']*highway_weight + d['centrality_norm']*centrality_weight)/weightsum"
   ]
  },
  {
   "cell_type": "code",
   "execution_count": 642,
   "id": "05ad5857",
   "metadata": {},
   "outputs": [
    {
     "data": {
      "text/html": [
       "<div>\n",
       "<style scoped>\n",
       "    .dataframe tbody tr th:only-of-type {\n",
       "        vertical-align: middle;\n",
       "    }\n",
       "\n",
       "    .dataframe tbody tr th {\n",
       "        vertical-align: top;\n",
       "    }\n",
       "\n",
       "    .dataframe thead th {\n",
       "        text-align: right;\n",
       "    }\n",
       "</style>\n",
       "<table border=\"1\" class=\"dataframe\">\n",
       "  <thead>\n",
       "    <tr style=\"text-align: right;\">\n",
       "      <th></th>\n",
       "      <th>u</th>\n",
       "      <th>v</th>\n",
       "      <th>key</th>\n",
       "      <th>osmid</th>\n",
       "      <th>highway</th>\n",
       "      <th>lanes</th>\n",
       "      <th>maxspeed</th>\n",
       "      <th>cycleway</th>\n",
       "      <th>highway_score</th>\n",
       "      <th>centrality</th>\n",
       "      <th>highway_score_norm</th>\n",
       "      <th>lanes_norm</th>\n",
       "      <th>centrality_norm</th>\n",
       "      <th>mean</th>\n",
       "      <th>weighted_mean</th>\n",
       "    </tr>\n",
       "  </thead>\n",
       "  <tbody>\n",
       "    <tr>\n",
       "      <th>0</th>\n",
       "      <td>10782939</td>\n",
       "      <td>340086040</td>\n",
       "      <td>0</td>\n",
       "      <td>196461233</td>\n",
       "      <td>secondary</td>\n",
       "      <td>2.0</td>\n",
       "      <td>60.0</td>\n",
       "      <td>lane</td>\n",
       "      <td>6.0</td>\n",
       "      <td>0.015234</td>\n",
       "      <td>1.0</td>\n",
       "      <td>0.2</td>\n",
       "      <td>0.139553</td>\n",
       "      <td>0.446518</td>\n",
       "      <td>0.433085</td>\n",
       "    </tr>\n",
       "    <tr>\n",
       "      <th>1</th>\n",
       "      <td>10782939</td>\n",
       "      <td>533769764</td>\n",
       "      <td>0</td>\n",
       "      <td>384921496</td>\n",
       "      <td>secondary</td>\n",
       "      <td>2.0</td>\n",
       "      <td>60.0</td>\n",
       "      <td>NaN</td>\n",
       "      <td>6.0</td>\n",
       "      <td>0.007691</td>\n",
       "      <td>1.0</td>\n",
       "      <td>0.2</td>\n",
       "      <td>0.070455</td>\n",
       "      <td>0.423485</td>\n",
       "      <td>0.394697</td>\n",
       "    </tr>\n",
       "    <tr>\n",
       "      <th>2</th>\n",
       "      <td>10782939</td>\n",
       "      <td>295175096</td>\n",
       "      <td>0</td>\n",
       "      <td>196461233</td>\n",
       "      <td>secondary</td>\n",
       "      <td>2.0</td>\n",
       "      <td>60.0</td>\n",
       "      <td>lane</td>\n",
       "      <td>6.0</td>\n",
       "      <td>0.023395</td>\n",
       "      <td>1.0</td>\n",
       "      <td>0.2</td>\n",
       "      <td>0.214306</td>\n",
       "      <td>0.471435</td>\n",
       "      <td>0.474614</td>\n",
       "    </tr>\n",
       "    <tr>\n",
       "      <th>3</th>\n",
       "      <td>10782939</td>\n",
       "      <td>295175045</td>\n",
       "      <td>0</td>\n",
       "      <td>[38896609, 871538111]</td>\n",
       "      <td>secondary</td>\n",
       "      <td>2.0</td>\n",
       "      <td>60.0</td>\n",
       "      <td>lane</td>\n",
       "      <td>6.0</td>\n",
       "      <td>0.023325</td>\n",
       "      <td>1.0</td>\n",
       "      <td>0.2</td>\n",
       "      <td>0.213665</td>\n",
       "      <td>0.471222</td>\n",
       "      <td>0.474258</td>\n",
       "    </tr>\n",
       "    <tr>\n",
       "      <th>4</th>\n",
       "      <td>10782965</td>\n",
       "      <td>340086081</td>\n",
       "      <td>0</td>\n",
       "      <td>503446166</td>\n",
       "      <td>secondary</td>\n",
       "      <td>2.0</td>\n",
       "      <td>60.0</td>\n",
       "      <td>NaN</td>\n",
       "      <td>6.0</td>\n",
       "      <td>0.015148</td>\n",
       "      <td>1.0</td>\n",
       "      <td>0.2</td>\n",
       "      <td>0.138765</td>\n",
       "      <td>0.446255</td>\n",
       "      <td>0.432647</td>\n",
       "    </tr>\n",
       "    <tr>\n",
       "      <th>...</th>\n",
       "      <td>...</td>\n",
       "      <td>...</td>\n",
       "      <td>...</td>\n",
       "      <td>...</td>\n",
       "      <td>...</td>\n",
       "      <td>...</td>\n",
       "      <td>...</td>\n",
       "      <td>...</td>\n",
       "      <td>...</td>\n",
       "      <td>...</td>\n",
       "      <td>...</td>\n",
       "      <td>...</td>\n",
       "      <td>...</td>\n",
       "      <td>...</td>\n",
       "      <td>...</td>\n",
       "    </tr>\n",
       "    <tr>\n",
       "      <th>16033</th>\n",
       "      <td>12914941146</td>\n",
       "      <td>281861333</td>\n",
       "      <td>0</td>\n",
       "      <td>26778034</td>\n",
       "      <td>residential</td>\n",
       "      <td>2.0</td>\n",
       "      <td>NaN</td>\n",
       "      <td>NaN</td>\n",
       "      <td>4.0</td>\n",
       "      <td>0.000145</td>\n",
       "      <td>0.6</td>\n",
       "      <td>0.2</td>\n",
       "      <td>0.001324</td>\n",
       "      <td>0.267108</td>\n",
       "      <td>0.222958</td>\n",
       "    </tr>\n",
       "    <tr>\n",
       "      <th>16034</th>\n",
       "      <td>12914941146</td>\n",
       "      <td>12914891937</td>\n",
       "      <td>0</td>\n",
       "      <td>26778034</td>\n",
       "      <td>residential</td>\n",
       "      <td>2.0</td>\n",
       "      <td>NaN</td>\n",
       "      <td>NaN</td>\n",
       "      <td>4.0</td>\n",
       "      <td>0.000197</td>\n",
       "      <td>0.6</td>\n",
       "      <td>0.2</td>\n",
       "      <td>0.001808</td>\n",
       "      <td>0.267269</td>\n",
       "      <td>0.223227</td>\n",
       "    </tr>\n",
       "    <tr>\n",
       "      <th>16035</th>\n",
       "      <td>12920378968</td>\n",
       "      <td>12688766046</td>\n",
       "      <td>0</td>\n",
       "      <td>1087603806</td>\n",
       "      <td>residential</td>\n",
       "      <td>2.0</td>\n",
       "      <td>NaN</td>\n",
       "      <td>NaN</td>\n",
       "      <td>4.0</td>\n",
       "      <td>0.000121</td>\n",
       "      <td>0.6</td>\n",
       "      <td>0.2</td>\n",
       "      <td>0.001111</td>\n",
       "      <td>0.267037</td>\n",
       "      <td>0.222840</td>\n",
       "    </tr>\n",
       "    <tr>\n",
       "      <th>16036</th>\n",
       "      <td>12920378968</td>\n",
       "      <td>12920407984</td>\n",
       "      <td>0</td>\n",
       "      <td>1087603806</td>\n",
       "      <td>residential</td>\n",
       "      <td>2.0</td>\n",
       "      <td>NaN</td>\n",
       "      <td>NaN</td>\n",
       "      <td>4.0</td>\n",
       "      <td>0.000019</td>\n",
       "      <td>0.6</td>\n",
       "      <td>0.2</td>\n",
       "      <td>0.000174</td>\n",
       "      <td>0.266725</td>\n",
       "      <td>0.222319</td>\n",
       "    </tr>\n",
       "    <tr>\n",
       "      <th>16037</th>\n",
       "      <td>12920407984</td>\n",
       "      <td>12920378968</td>\n",
       "      <td>0</td>\n",
       "      <td>1087603806</td>\n",
       "      <td>residential</td>\n",
       "      <td>2.0</td>\n",
       "      <td>NaN</td>\n",
       "      <td>NaN</td>\n",
       "      <td>4.0</td>\n",
       "      <td>0.000019</td>\n",
       "      <td>0.6</td>\n",
       "      <td>0.2</td>\n",
       "      <td>0.000174</td>\n",
       "      <td>0.266725</td>\n",
       "      <td>0.222319</td>\n",
       "    </tr>\n",
       "  </tbody>\n",
       "</table>\n",
       "<p>16038 rows × 15 columns</p>\n",
       "</div>"
      ],
      "text/plain": [
       "                 u            v  key                  osmid      highway  \\\n",
       "0         10782939    340086040    0              196461233    secondary   \n",
       "1         10782939    533769764    0              384921496    secondary   \n",
       "2         10782939    295175096    0              196461233    secondary   \n",
       "3         10782939    295175045    0  [38896609, 871538111]    secondary   \n",
       "4         10782965    340086081    0              503446166    secondary   \n",
       "...            ...          ...  ...                    ...          ...   \n",
       "16033  12914941146    281861333    0               26778034  residential   \n",
       "16034  12914941146  12914891937    0               26778034  residential   \n",
       "16035  12920378968  12688766046    0             1087603806  residential   \n",
       "16036  12920378968  12920407984    0             1087603806  residential   \n",
       "16037  12920407984  12920378968    0             1087603806  residential   \n",
       "\n",
       "       lanes  maxspeed cycleway  highway_score  centrality  \\\n",
       "0        2.0      60.0     lane            6.0    0.015234   \n",
       "1        2.0      60.0      NaN            6.0    0.007691   \n",
       "2        2.0      60.0     lane            6.0    0.023395   \n",
       "3        2.0      60.0     lane            6.0    0.023325   \n",
       "4        2.0      60.0      NaN            6.0    0.015148   \n",
       "...      ...       ...      ...            ...         ...   \n",
       "16033    2.0       NaN      NaN            4.0    0.000145   \n",
       "16034    2.0       NaN      NaN            4.0    0.000197   \n",
       "16035    2.0       NaN      NaN            4.0    0.000121   \n",
       "16036    2.0       NaN      NaN            4.0    0.000019   \n",
       "16037    2.0       NaN      NaN            4.0    0.000019   \n",
       "\n",
       "       highway_score_norm  lanes_norm  centrality_norm      mean  \\\n",
       "0                     1.0         0.2         0.139553  0.446518   \n",
       "1                     1.0         0.2         0.070455  0.423485   \n",
       "2                     1.0         0.2         0.214306  0.471435   \n",
       "3                     1.0         0.2         0.213665  0.471222   \n",
       "4                     1.0         0.2         0.138765  0.446255   \n",
       "...                   ...         ...              ...       ...   \n",
       "16033                 0.6         0.2         0.001324  0.267108   \n",
       "16034                 0.6         0.2         0.001808  0.267269   \n",
       "16035                 0.6         0.2         0.001111  0.267037   \n",
       "16036                 0.6         0.2         0.000174  0.266725   \n",
       "16037                 0.6         0.2         0.000174  0.266725   \n",
       "\n",
       "       weighted_mean  \n",
       "0           0.433085  \n",
       "1           0.394697  \n",
       "2           0.474614  \n",
       "3           0.474258  \n",
       "4           0.432647  \n",
       "...              ...  \n",
       "16033       0.222958  \n",
       "16034       0.223227  \n",
       "16035       0.222840  \n",
       "16036       0.222319  \n",
       "16037       0.222319  \n",
       "\n",
       "[16038 rows x 15 columns]"
      ]
     },
     "execution_count": 642,
     "metadata": {},
     "output_type": "execute_result"
    }
   ],
   "source": [
    "d.sort_values('mean', ascending=False)\n",
    "d"
   ]
  },
  {
   "cell_type": "code",
   "execution_count": 643,
   "id": "e9ce0d91",
   "metadata": {},
   "outputs": [],
   "source": [
    "# d.sort_values('weighted_mean', ascending=False)"
   ]
  },
  {
   "cell_type": "code",
   "execution_count": 644,
   "id": "016b2ed5",
   "metadata": {},
   "outputs": [
    {
     "name": "stdout",
     "output_type": "stream",
     "text": [
      "4009\n"
     ]
    }
   ],
   "source": [
    "# Dividing into quadrants and taking random samples:\n",
    "# dividing length by four and splitting by index number\n",
    "\n",
    "d = d.reindex()\n",
    "quarter = int(len(d)/4)\n",
    "q1 = range(0, quarter)\n",
    "q2 = range(quarter+1, quarter*2)\n",
    "q3 = range(quarter*2+1, quarter*3)\n",
    "q4 = range(quarter*3+1, len(d))\n",
    "\n",
    "print(quarter)\n",
    "d.iloc[q1]\n",
    "\n",
    "q1_sample = d.iloc[q1].sample(n=4)\n",
    "q2_sample = d.iloc[q2].sample(n=4)\n",
    "q3_sample = d.iloc[q3].sample(n=4)\n",
    "q4_sample = d.iloc[q4].sample(n=4)"
   ]
  },
  {
   "cell_type": "code",
   "execution_count": 646,
   "id": "fbd26919",
   "metadata": {},
   "outputs": [
    {
     "data": {
      "text/plain": [
       "u                     2396890473\n",
       "v                      255942725\n",
       "key                            0\n",
       "osmid                 1023981543\n",
       "highway                secondary\n",
       "lanes                        3.0\n",
       "maxspeed                    50.0\n",
       "cycleway                     NaN\n",
       "highway_score                6.0\n",
       "centrality              0.000868\n",
       "highway_score_norm           1.0\n",
       "lanes_norm                   0.4\n",
       "centrality_norm          0.00795\n",
       "mean                    0.469317\n",
       "weighted_mean           0.382194\n",
       "Name: 8018, dtype: object"
      ]
     },
     "execution_count": 646,
     "metadata": {},
     "output_type": "execute_result"
    }
   ],
   "source": [
    "d.iloc[quarter*2]"
   ]
  },
  {
   "cell_type": "code",
   "execution_count": 577,
   "id": "cac1204b",
   "metadata": {},
   "outputs": [],
   "source": [
    "q1_df = d.iloc[q1]\n",
    "q2_df = d.iloc[q2]\n",
    "q3_df = d.iloc[q3]\n",
    "q4_df = d.iloc[q4]"
   ]
  },
  {
   "cell_type": "code",
   "execution_count": null,
   "id": "3d380d4f",
   "metadata": {},
   "outputs": [
    {
     "name": "stdout",
     "output_type": "stream",
     "text": [
      "cycleway\n",
      "NaN            3601\n",
      "lane            278\n",
      "shared_lane     124\n",
      "shared            5\n",
      "designated        1\n",
      "Name: count, dtype: int64\n",
      "0.06934397605387878\n",
      "0.8982289847842355\n"
     ]
    }
   ],
   "source": [
    "# Quadrant 1 cycling lane stats\n",
    "print(q1_df['cycleway'].value_counts(dropna=False))\n",
    "print(278/len(q1_df))\n",
    "print(3601/len(q1_df))\n"
   ]
  },
  {
   "cell_type": "code",
   "execution_count": 583,
   "id": "839a5ed8",
   "metadata": {},
   "outputs": [
    {
     "name": "stdout",
     "output_type": "stream",
     "text": [
      "cycleway\n",
      "NaN            3479\n",
      "lane            429\n",
      "shared_lane      94\n",
      "shared            3\n",
      "shoulder          2\n",
      "designated        1\n",
      "Name: count, dtype: int64\n",
      "0.10703592814371257\n",
      "0.8680139720558883\n"
     ]
    }
   ],
   "source": [
    "print(q2_df['cycleway'].value_counts(dropna=False))\n",
    "print(429/len(q2_df))\n",
    "print(3479/len(q2_df))"
   ]
  },
  {
   "cell_type": "code",
   "execution_count": 585,
   "id": "cd803398",
   "metadata": {},
   "outputs": [
    {
     "name": "stdout",
     "output_type": "stream",
     "text": [
      "cycleway\n",
      "NaN            3700\n",
      "lane            274\n",
      "shared_lane      34\n",
      "Name: count, dtype: int64\n",
      "0.06836327345309381\n",
      "0.9231536926147704\n"
     ]
    }
   ],
   "source": [
    "print(q3_df['cycleway'].value_counts(dropna=False))\n",
    "print(274/len(q3_df))\n",
    "print(3700/len(q3_df))"
   ]
  },
  {
   "cell_type": "code",
   "execution_count": 587,
   "id": "40a43c7a",
   "metadata": {},
   "outputs": [
    {
     "name": "stdout",
     "output_type": "stream",
     "text": [
      "cycleway\n",
      "NaN            3654\n",
      "lane            341\n",
      "shared_lane      15\n",
      "Name: count, dtype: int64\n",
      "0.08503740648379052\n",
      "0.9112219451371572\n"
     ]
    }
   ],
   "source": [
    "print(q4_df['cycleway'].value_counts(dropna=False))\n",
    "print(341/len(q4_df))\n",
    "print(3654/len(q4_df))"
   ]
  },
  {
   "cell_type": "markdown",
   "id": "07f78481",
   "metadata": {},
   "source": [
    "# Plotting"
   ]
  },
  {
   "cell_type": "code",
   "execution_count": 515,
   "id": "654475bc",
   "metadata": {},
   "outputs": [
    {
     "data": {
      "text/plain": [
       "16038"
      ]
     },
     "execution_count": 515,
     "metadata": {},
     "output_type": "execute_result"
    }
   ],
   "source": [
    "# TODO: Distribution plots for each indicator\n",
    "\n",
    "len(d)"
   ]
  },
  {
   "cell_type": "markdown",
   "id": "cf89e0ea",
   "metadata": {},
   "source": [
    "## Average indic score for each highway type"
   ]
  },
  {
   "cell_type": "code",
   "execution_count": 516,
   "id": "cabf4ba6",
   "metadata": {},
   "outputs": [
    {
     "data": {
      "text/plain": [
       "([0, 1, 2, 3, 4, 5],\n",
       " [Text(0, 0, 'secondary'),\n",
       "  Text(1, 0, 'tertiary'),\n",
       "  Text(2, 0, 'unclassified'),\n",
       "  Text(3, 0, 'residential'),\n",
       "  Text(4, 0, 'tertiary_link'),\n",
       "  Text(5, 0, 'living_street')])"
      ]
     },
     "execution_count": 516,
     "metadata": {},
     "output_type": "execute_result"
    },
    {
     "data": {
      "image/png": "[encoded data removed]",
      "text/plain": [
       "<Figure size 640x480 with 1 Axes>"
      ]
     },
     "metadata": {},
     "output_type": "display_data"
    }
   ],
   "source": [
    "# mean by highway type \n",
    "\n",
    "fig, ax = plt.subplots(1, 1)\n",
    "xticks = d['highway'].unique()\n",
    "values = [d.loc[d['highway']==h, 'mean'].mean() for h in xticks]\n",
    "\n",
    "plt.bar(xticks, values)\n",
    "plt.xticks(rotation=45)"
   ]
  },
  {
   "cell_type": "code",
   "execution_count": 517,
   "id": "88950f75",
   "metadata": {},
   "outputs": [
    {
     "data": {
      "text/plain": [
       "([0, 1, 2, 3, 4, 5],\n",
       " [Text(0, 0, 'secondary'),\n",
       "  Text(1, 0, 'tertiary'),\n",
       "  Text(2, 0, 'unclassified'),\n",
       "  Text(3, 0, 'residential'),\n",
       "  Text(4, 0, 'tertiary_link'),\n",
       "  Text(5, 0, 'living_street')])"
      ]
     },
     "execution_count": 517,
     "metadata": {},
     "output_type": "execute_result"
    },
    {
     "data": {
      "image/png": "[encoded data removed]",
      "text/plain": [
       "<Figure size 640x480 with 1 Axes>"
      ]
     },
     "metadata": {},
     "output_type": "display_data"
    }
   ],
   "source": [
    "# weighted mean by highway type\n",
    "\n",
    "fig, ax = plt.subplots(1, 1)\n",
    "xticks = d['highway'].unique()\n",
    "values = [d.loc[d['highway']==h, 'weighted_mean'].mean() for h in xticks]\n",
    "\n",
    "plt.bar(xticks, values)\n",
    "plt.xticks(rotation=45)"
   ]
  },
  {
   "cell_type": "markdown",
   "id": "71eadd49",
   "metadata": {},
   "source": [
    "## Priority street network"
   ]
  },
  {
   "cell_type": "markdown",
   "id": "d2c9ab39",
   "metadata": {},
   "source": []
  }
 ],
 "metadata": {
  "kernelspec": {
   "display_name": ".venv (3.12.3)",
   "language": "python",
   "name": "python3"
  },
  "language_info": {
   "codemirror_mode": {
    "name": "ipython",
    "version": 3
   },
   "file_extension": ".py",
   "mimetype": "text/x-python",
   "name": "python",
   "nbconvert_exporter": "python",
   "pygments_lexer": "ipython3",
   "version": "3.12.3"
  }
 },
 "nbformat": 4,
 "nbformat_minor": 5
}
