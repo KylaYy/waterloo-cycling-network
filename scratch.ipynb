{
 "cells": [
  {
   "cell_type": "markdown",
   "id": "79421df9-4d06-4363-b8f8-290fe87a8bec",
   "metadata": {},
   "source": [
    "# This notebook is for scratch work and trial"
   ]
  },
  {
   "cell_type": "code",
   "execution_count": 1,
   "id": "541af946-8cee-4cd9-a9c8-f1b205d2a1ae",
   "metadata": {},
   "outputs": [],
   "source": [
    "import pandas as pd\n",
    "import numpy as np"
   ]
  },
  {
   "cell_type": "code",
   "execution_count": 3,
   "id": "a463ba2e-07df-41e4-93a5-6e0d0c7a7b69",
   "metadata": {},
   "outputs": [],
   "source": [
    "d = pd.read_csv('Data/gdf_edges.csv')"
   ]
  },
  {
   "cell_type": "code",
   "execution_count": 4,
   "id": "169fb492-90bf-43fe-8109-965c97ed6174",
   "metadata": {},
   "outputs": [
    {
     "data": {
      "text/html": [
       "<div>\n",
       "<style scoped>\n",
       "    .dataframe tbody tr th:only-of-type {\n",
       "        vertical-align: middle;\n",
       "    }\n",
       "\n",
       "    .dataframe tbody tr th {\n",
       "        vertical-align: top;\n",
       "    }\n",
       "\n",
       "    .dataframe thead th {\n",
       "        text-align: right;\n",
       "    }\n",
       "</style>\n",
       "<table border=\"1\" class=\"dataframe\">\n",
       "  <thead>\n",
       "    <tr style=\"text-align: right;\">\n",
       "      <th></th>\n",
       "      <th>u</th>\n",
       "      <th>v</th>\n",
       "      <th>key</th>\n",
       "      <th>osmid</th>\n",
       "      <th>highway</th>\n",
       "      <th>lanes</th>\n",
       "      <th>maxspeed</th>\n",
       "      <th>name</th>\n",
       "      <th>oneway</th>\n",
       "      <th>reversed</th>\n",
       "      <th>length</th>\n",
       "      <th>ref</th>\n",
       "      <th>geometry</th>\n",
       "      <th>service</th>\n",
       "      <th>width</th>\n",
       "      <th>access</th>\n",
       "      <th>tunnel</th>\n",
       "      <th>junction</th>\n",
       "      <th>bridge</th>\n",
       "    </tr>\n",
       "  </thead>\n",
       "  <tbody>\n",
       "    <tr>\n",
       "      <th>0</th>\n",
       "      <td>10782939</td>\n",
       "      <td>340086040</td>\n",
       "      <td>0</td>\n",
       "      <td>196461233</td>\n",
       "      <td>secondary</td>\n",
       "      <td>2</td>\n",
       "      <td>60</td>\n",
       "      <td>Columbia Street West</td>\n",
       "      <td>True</td>\n",
       "      <td>False</td>\n",
       "      <td>11.415097</td>\n",
       "      <td>NaN</td>\n",
       "      <td>NaN</td>\n",
       "      <td>NaN</td>\n",
       "      <td>NaN</td>\n",
       "      <td>NaN</td>\n",
       "      <td>NaN</td>\n",
       "      <td>NaN</td>\n",
       "      <td>NaN</td>\n",
       "    </tr>\n",
       "    <tr>\n",
       "      <th>1</th>\n",
       "      <td>10782939</td>\n",
       "      <td>295175045</td>\n",
       "      <td>0</td>\n",
       "      <td>[38896609, 871538111]</td>\n",
       "      <td>secondary</td>\n",
       "      <td>2</td>\n",
       "      <td>60</td>\n",
       "      <td>Westmount Road North</td>\n",
       "      <td>True</td>\n",
       "      <td>False</td>\n",
       "      <td>562.906997</td>\n",
       "      <td>RR 50</td>\n",
       "      <td>LINESTRING (-80.5581321 43.4704584, -80.557973...</td>\n",
       "      <td>NaN</td>\n",
       "      <td>NaN</td>\n",
       "      <td>NaN</td>\n",
       "      <td>NaN</td>\n",
       "      <td>NaN</td>\n",
       "      <td>NaN</td>\n",
       "    </tr>\n",
       "    <tr>\n",
       "      <th>2</th>\n",
       "      <td>10782965</td>\n",
       "      <td>340086081</td>\n",
       "      <td>0</td>\n",
       "      <td>503446166</td>\n",
       "      <td>secondary</td>\n",
       "      <td>2</td>\n",
       "      <td>60</td>\n",
       "      <td>Bearinger Road</td>\n",
       "      <td>True</td>\n",
       "      <td>False</td>\n",
       "      <td>12.632849</td>\n",
       "      <td>RR 58</td>\n",
       "      <td>NaN</td>\n",
       "      <td>NaN</td>\n",
       "      <td>NaN</td>\n",
       "      <td>NaN</td>\n",
       "      <td>NaN</td>\n",
       "      <td>NaN</td>\n",
       "      <td>NaN</td>\n",
       "    </tr>\n",
       "    <tr>\n",
       "      <th>3</th>\n",
       "      <td>10782965</td>\n",
       "      <td>3251111321</td>\n",
       "      <td>0</td>\n",
       "      <td>503446167</td>\n",
       "      <td>secondary</td>\n",
       "      <td>2</td>\n",
       "      <td>60</td>\n",
       "      <td>Westmount Road North</td>\n",
       "      <td>True</td>\n",
       "      <td>False</td>\n",
       "      <td>759.554194</td>\n",
       "      <td>RR 50</td>\n",
       "      <td>LINESTRING (-80.5653142 43.4834183, -80.565241...</td>\n",
       "      <td>NaN</td>\n",
       "      <td>NaN</td>\n",
       "      <td>NaN</td>\n",
       "      <td>NaN</td>\n",
       "      <td>NaN</td>\n",
       "      <td>NaN</td>\n",
       "    </tr>\n",
       "    <tr>\n",
       "      <th>4</th>\n",
       "      <td>15062368</td>\n",
       "      <td>6630422592</td>\n",
       "      <td>0</td>\n",
       "      <td>117989218</td>\n",
       "      <td>secondary</td>\n",
       "      <td>2</td>\n",
       "      <td>80</td>\n",
       "      <td>Northfield Drive East</td>\n",
       "      <td>False</td>\n",
       "      <td>False</td>\n",
       "      <td>581.706808</td>\n",
       "      <td>RR 22</td>\n",
       "      <td>LINESTRING (-80.5130366 43.5325644, -80.513135...</td>\n",
       "      <td>NaN</td>\n",
       "      <td>NaN</td>\n",
       "      <td>NaN</td>\n",
       "      <td>NaN</td>\n",
       "      <td>NaN</td>\n",
       "      <td>NaN</td>\n",
       "    </tr>\n",
       "  </tbody>\n",
       "</table>\n",
       "</div>"
      ],
      "text/plain": [
       "          u           v  key                  osmid    highway lanes maxspeed  \\\n",
       "0  10782939   340086040    0              196461233  secondary     2       60   \n",
       "1  10782939   295175045    0  [38896609, 871538111]  secondary     2       60   \n",
       "2  10782965   340086081    0              503446166  secondary     2       60   \n",
       "3  10782965  3251111321    0              503446167  secondary     2       60   \n",
       "4  15062368  6630422592    0              117989218  secondary     2       80   \n",
       "\n",
       "                    name  oneway reversed      length    ref  \\\n",
       "0   Columbia Street West    True    False   11.415097    NaN   \n",
       "1   Westmount Road North    True    False  562.906997  RR 50   \n",
       "2         Bearinger Road    True    False   12.632849  RR 58   \n",
       "3   Westmount Road North    True    False  759.554194  RR 50   \n",
       "4  Northfield Drive East   False    False  581.706808  RR 22   \n",
       "\n",
       "                                            geometry service width access  \\\n",
       "0                                                NaN     NaN   NaN    NaN   \n",
       "1  LINESTRING (-80.5581321 43.4704584, -80.557973...     NaN   NaN    NaN   \n",
       "2                                                NaN     NaN   NaN    NaN   \n",
       "3  LINESTRING (-80.5653142 43.4834183, -80.565241...     NaN   NaN    NaN   \n",
       "4  LINESTRING (-80.5130366 43.5325644, -80.513135...     NaN   NaN    NaN   \n",
       "\n",
       "  tunnel junction bridge  \n",
       "0    NaN      NaN    NaN  \n",
       "1    NaN      NaN    NaN  \n",
       "2    NaN      NaN    NaN  \n",
       "3    NaN      NaN    NaN  \n",
       "4    NaN      NaN    NaN  "
      ]
     },
     "execution_count": 4,
     "metadata": {},
     "output_type": "execute_result"
    }
   ],
   "source": [
    "d.head()"
   ]
  },
  {
   "cell_type": "code",
   "execution_count": 6,
   "id": "7130c8f5-a049-4bec-9416-1ecd0852d66b",
   "metadata": {},
   "outputs": [
    {
     "name": "stdout",
     "output_type": "stream",
     "text": [
      "<class 'pandas.core.series.Series'>\n",
      "0         True\n",
      "1         True\n",
      "2         True\n",
      "3         True\n",
      "4         True\n",
      "         ...  \n",
      "50193    False\n",
      "50194    False\n",
      "50195    False\n",
      "50196    False\n",
      "50197    False\n",
      "Name: highway, Length: 50198, dtype: bool\n"
     ]
    }
   ],
   "source": [
    "cond = d['highway'] == 'secondary'\n",
    "\n",
    "print(type(cond))\n",
    "print(cond)"
   ]
  },
  {
   "cell_type": "code",
   "execution_count": 13,
   "id": "73f1543d-f839-4280-ac12-68ea5d9e2819",
   "metadata": {},
   "outputs": [
    {
     "name": "stdout",
     "output_type": "stream",
     "text": [
      "True\n"
     ]
    }
   ],
   "source": [
    "## how to test whether data type is a string\n",
    "def isString(s):\n",
    "    return isinstance(s, str)\n",
    "\n",
    "x = lambda s: isinstance(s, str)\n",
    "\n",
    "print(x('string'))"
   ]
  },
  {
   "cell_type": "code",
   "execution_count": 30,
   "id": "9e7d0c71-64a6-4f7a-97f5-190190db4bc4",
   "metadata": {},
   "outputs": [
    {
     "name": "stdout",
     "output_type": "stream",
     "text": [
      "int with nan       float64\n",
      "strings             object\n",
      "mixed numerical    float64\n",
      "mixed string        object\n",
      "dtype: object\n"
     ]
    },
    {
     "data": {
      "text/plain": [
       "dtype('float64')"
      ]
     },
     "execution_count": 30,
     "metadata": {},
     "output_type": "execute_result"
    }
   ],
   "source": [
    "## testing dtype attribute\n",
    "\n",
    "d = pd.DataFrame.from_dict({\n",
    "    'int with nan':[0, 1, np.nan],\n",
    "    'strings': ['hello world', '', 'test'],\n",
    "    'mixed numerical': [1, 2.2, 4],\n",
    "    'mixed string': ['hello world', 3, 4]\n",
    "})\n",
    "\n",
    "print(d.dtypes)\n",
    "# print(d.columns.dtype)\n",
    "d['int with nan'].dtype"
   ]
  },
  {
   "cell_type": "code",
   "execution_count": 35,
   "id": "58351907-db86-4250-8f41-9ba8738617d5",
   "metadata": {},
   "outputs": [
    {
     "name": "stdout",
     "output_type": "stream",
     "text": [
      "0     True\n",
      "1    False\n",
      "2     True\n",
      "3    False\n",
      "Name: strings, dtype: bool\n"
     ]
    },
    {
     "data": {
      "text/html": [
       "<div>\n",
       "<style scoped>\n",
       "    .dataframe tbody tr th:only-of-type {\n",
       "        vertical-align: middle;\n",
       "    }\n",
       "\n",
       "    .dataframe tbody tr th {\n",
       "        vertical-align: top;\n",
       "    }\n",
       "\n",
       "    .dataframe thead th {\n",
       "        text-align: right;\n",
       "    }\n",
       "</style>\n",
       "<table border=\"1\" class=\"dataframe\">\n",
       "  <thead>\n",
       "    <tr style=\"text-align: right;\">\n",
       "      <th></th>\n",
       "      <th>strings</th>\n",
       "    </tr>\n",
       "  </thead>\n",
       "  <tbody>\n",
       "    <tr>\n",
       "      <th>0</th>\n",
       "      <td>ors</td>\n",
       "    </tr>\n",
       "    <tr>\n",
       "      <th>1</th>\n",
       "      <td>dog</td>\n",
       "    </tr>\n",
       "    <tr>\n",
       "      <th>2</th>\n",
       "      <td>artma</td>\n",
       "    </tr>\n",
       "    <tr>\n",
       "      <th>3</th>\n",
       "      <td>kyle</td>\n",
       "    </tr>\n",
       "  </tbody>\n",
       "</table>\n",
       "</div>"
      ],
      "text/plain": [
       "  strings\n",
       "0     ors\n",
       "1     dog\n",
       "2   artma\n",
       "3    kyle"
      ]
     },
     "execution_count": 35,
     "metadata": {},
     "output_type": "execute_result"
    }
   ],
   "source": [
    "# testing str.slice\n",
    "d = pd.DataFrame.from_dict({\n",
    "    'strings':['horse', 'dog', 'cartman', 'kyle']\n",
    "})\n",
    "\n",
    "cond = (d['strings'].str.slice(stop=1) == 'h') | (d['strings'] == 'cartman') \n",
    "\n",
    "print(cond)\n",
    "\n",
    "d['strings'].loc[cond] = d['strings'].loc[cond].str.slice(start=1, stop=-1)\n",
    "\n",
    "d"
   ]
  },
  {
   "cell_type": "code",
   "execution_count": null,
   "id": "56945afb-e7d0-45f8-874a-1e11fa9debc3",
   "metadata": {},
   "outputs": [],
   "source": []
  }
 ],
 "metadata": {
  "kernelspec": {
   "display_name": "Python 3 (ipykernel)",
   "language": "python",
   "name": "python3"
  },
  "language_info": {
   "codemirror_mode": {
    "name": "ipython",
    "version": 3
   },
   "file_extension": ".py",
   "mimetype": "text/x-python",
   "name": "python",
   "nbconvert_exporter": "python",
   "pygments_lexer": "ipython3",
   "version": "3.11.1"
  }
 },
 "nbformat": 4,
 "nbformat_minor": 5
}
